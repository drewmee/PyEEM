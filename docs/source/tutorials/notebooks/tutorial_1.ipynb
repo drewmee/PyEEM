{
 "cells": [
  {
   "cell_type": "markdown",
   "metadata": {
    "colab_type": "text",
    "id": "fAJ_U-lLS2To"
   },
   "source": [
    "# Tutorial #1 - Preprocessing, Calibration, Augmentation, and Deconvolution"
   ]
  },
  {
   "cell_type": "markdown",
   "metadata": {},
   "source": [
    "## Load the PyEEM library and display version"
   ]
  },
  {
   "cell_type": "code",
   "execution_count": 1,
   "metadata": {
    "colab": {
     "base_uri": "https://localhost:8080/",
     "height": 459
    },
    "colab_type": "code",
    "id": "gjJn1P8YS2Tp",
    "outputId": "b342b658-b016-4469-9d0c-f9f5ba58fd96",
    "scrolled": true
   },
   "outputs": [
    {
     "name": "stdout",
     "output_type": "stream",
     "text": [
      "0.1.1\n"
     ]
    }
   ],
   "source": [
    "import pyeem\n",
    "print(pyeem.__version__)"
   ]
  },
  {
   "cell_type": "markdown",
   "metadata": {
    "colab_type": "text",
    "id": "w6HSqNbPS2Tt"
   },
   "source": [
    "## Check out the supported instruments"
   ]
  },
  {
   "cell_type": "code",
   "execution_count": 2,
   "metadata": {
    "colab": {
     "base_uri": "https://localhost:8080/",
     "height": 164
    },
    "colab_type": "code",
    "id": "r5ou9yMDS2Tu",
    "outputId": "034e1262-cb53-4341-f628-d9584b66a552"
   },
   "outputs": [
    {
     "data": {
      "text/html": [
       "<div>\n",
       "<style scoped>\n",
       "    .dataframe tbody tr th:only-of-type {\n",
       "        vertical-align: middle;\n",
       "    }\n",
       "\n",
       "    .dataframe tbody tr th {\n",
       "        vertical-align: top;\n",
       "    }\n",
       "\n",
       "    .dataframe thead th {\n",
       "        text-align: right;\n",
       "    }\n",
       "</style>\n",
       "<table border=\"1\" class=\"dataframe\">\n",
       "  <thead>\n",
       "    <tr style=\"text-align: right;\">\n",
       "      <th></th>\n",
       "      <th></th>\n",
       "      <th>name</th>\n",
       "    </tr>\n",
       "    <tr>\n",
       "      <th>manufacturer</th>\n",
       "      <th>supported_models</th>\n",
       "      <th></th>\n",
       "    </tr>\n",
       "  </thead>\n",
       "  <tbody>\n",
       "    <tr>\n",
       "      <th rowspan=\"2\" valign=\"top\">Agilent</th>\n",
       "      <th>Cary 4E</th>\n",
       "      <td>cary_4e</td>\n",
       "    </tr>\n",
       "    <tr>\n",
       "      <th>Cary Eclipse</th>\n",
       "      <td>cary_eclipse</td>\n",
       "    </tr>\n",
       "    <tr>\n",
       "      <th rowspan=\"2\" valign=\"top\">Horiba</th>\n",
       "      <th>Aqualog-880-C</th>\n",
       "      <td>aqualog</td>\n",
       "    </tr>\n",
       "    <tr>\n",
       "      <th>SPEX Fluorolog-3</th>\n",
       "      <td>fluorolog</td>\n",
       "    </tr>\n",
       "    <tr>\n",
       "      <th>Tecan</th>\n",
       "      <th>Spark</th>\n",
       "      <td>spark</td>\n",
       "    </tr>\n",
       "  </tbody>\n",
       "</table>\n",
       "</div>"
      ],
      "text/plain": [
       "                                       name\n",
       "manufacturer supported_models              \n",
       "Agilent      Cary 4E                cary_4e\n",
       "             Cary Eclipse      cary_eclipse\n",
       "Horiba       Aqualog-880-C          aqualog\n",
       "             SPEX Fluorolog-3     fluorolog\n",
       "Tecan        Spark                    spark"
      ]
     },
     "execution_count": 2,
     "metadata": {},
     "output_type": "execute_result"
    }
   ],
   "source": [
    "pyeem.instruments.supported"
   ]
  },
  {
   "cell_type": "markdown",
   "metadata": {
    "colab_type": "text",
    "id": "uZp-5b_2S2Ty"
   },
   "source": [
    "## Check out the demo datasets"
   ]
  },
  {
   "cell_type": "code",
   "execution_count": 3,
   "metadata": {
    "colab": {
     "base_uri": "https://localhost:8080/",
     "height": 140
    },
    "colab_type": "code",
    "id": "1y2ly4E6S2Tz",
    "outputId": "ce2c4275-81bd-4370-93e3-49bff5b15287"
   },
   "outputs": [
    {
     "data": {
      "text/html": [
       "<div>\n",
       "<style scoped>\n",
       "    .dataframe tbody tr th:only-of-type {\n",
       "        vertical-align: middle;\n",
       "    }\n",
       "\n",
       "    .dataframe tbody tr th {\n",
       "        vertical-align: top;\n",
       "    }\n",
       "\n",
       "    .dataframe thead th {\n",
       "        text-align: right;\n",
       "    }\n",
       "</style>\n",
       "<table border=\"1\" class=\"dataframe\">\n",
       "  <thead>\n",
       "    <tr style=\"text-align: right;\">\n",
       "      <th></th>\n",
       "      <th>demo_name</th>\n",
       "      <th>description</th>\n",
       "      <th>citation</th>\n",
       "      <th>DOI</th>\n",
       "      <th>absorbance_instrument</th>\n",
       "      <th>water_raman_instrument</th>\n",
       "      <th>EEM_instrument</th>\n",
       "    </tr>\n",
       "  </thead>\n",
       "  <tbody>\n",
       "    <tr>\n",
       "      <th>0</th>\n",
       "      <td>rutherford</td>\n",
       "      <td>Excitation Emission Matrix (EEM) fluorescence ...</td>\n",
       "      <td>Rutherford, Jay W., et al. \"Excitation emissio...</td>\n",
       "      <td>10.1016/j.atmosenv.2019.117065</td>\n",
       "      <td>Aqualog</td>\n",
       "      <td>None</td>\n",
       "      <td>Aqualog</td>\n",
       "    </tr>\n",
       "    <tr>\n",
       "      <th>1</th>\n",
       "      <td>drEEM</td>\n",
       "      <td>The demo dataset contains measurements made du...</td>\n",
       "      <td>Murphy, Kathleen R., et al. \"Fluorescence spec...</td>\n",
       "      <td>10.1039/c3ay41160e</td>\n",
       "      <td>Cary 4E</td>\n",
       "      <td>Fluorolog</td>\n",
       "      <td>Fluorolog</td>\n",
       "    </tr>\n",
       "  </tbody>\n",
       "</table>\n",
       "</div>"
      ],
      "text/plain": [
       "    demo_name                                        description  \\\n",
       "0  rutherford  Excitation Emission Matrix (EEM) fluorescence ...   \n",
       "1       drEEM  The demo dataset contains measurements made du...   \n",
       "\n",
       "                                            citation  \\\n",
       "0  Rutherford, Jay W., et al. \"Excitation emissio...   \n",
       "1  Murphy, Kathleen R., et al. \"Fluorescence spec...   \n",
       "\n",
       "                              DOI absorbance_instrument  \\\n",
       "0  10.1016/j.atmosenv.2019.117065               Aqualog   \n",
       "1              10.1039/c3ay41160e               Cary 4E   \n",
       "\n",
       "  water_raman_instrument EEM_instrument  \n",
       "0                   None        Aqualog  \n",
       "1              Fluorolog      Fluorolog  "
      ]
     },
     "metadata": {},
     "output_type": "display_data"
    },
    {
     "name": "stdout",
     "output_type": "stream",
     "text": [
      "Dataset description for the Rutherford et al. demo:\n",
      "Excitation Emission Matrix (EEM) fluorescence spectra used for combustion generated particulate matter source identification using a neural network.\n"
     ]
    }
   ],
   "source": [
    "demos_df = pyeem.datasets.demos\n",
    "display(demos_df)\n",
    "\n",
    "print(\"Dataset description for the Rutherford et al. demo:\")\n",
    "print(demos_df[\n",
    "    demos_df[\"demo_name\"] == \"rutherford\"\n",
    "][\"description\"].item())"
   ]
  },
  {
   "cell_type": "markdown",
   "metadata": {
    "colab_type": "text",
    "id": "S4kiNtSoS2T2"
   },
   "source": [
    "## Download the [Rutherford et al.](https://www.sciencedirect.com/science/article/pii/S1352231019307046) demo dataset from S3\n",
    "- Please note that this step requires an internet connection because the data is downloaded from an AWS S3 bucket."
   ]
  },
  {
   "cell_type": "code",
   "execution_count": 4,
   "metadata": {
    "colab": {},
    "colab_type": "code",
    "id": "BdZGU36oS2T3"
   },
   "outputs": [
    {
     "name": "stderr",
     "output_type": "stream",
     "text": [
      "Download Demo Dataset from S3: 100%|██████████| 417/417 [02:23<00:00,  2.90it/s]\n"
     ]
    }
   ],
   "source": [
    "demo_data_dir = pyeem.datasets.download_demo(\n",
    "    \"demo_data\",\n",
    "    demo_name=\"rutherford\"\n",
    ")"
   ]
  },
  {
   "cell_type": "markdown",
   "metadata": {
    "colab_type": "text",
    "id": "vwYgea99S2T6"
   },
   "source": [
    "## Load the dataset"
   ]
  },
  {
   "cell_type": "code",
   "execution_count": 5,
   "metadata": {
    "colab": {
     "base_uri": "https://localhost:8080/",
     "height": 321
    },
    "colab_type": "code",
    "id": "WNsaELQ6S2T7",
    "outputId": "32584dc4-c8ad-4ea9-856a-19b053f1e0d8",
    "scrolled": false
   },
   "outputs": [
    {
     "name": "stderr",
     "output_type": "stream",
     "text": [
      "WARNING: No Water Raman scan found in sample set 1.\n",
      "WARNING: No Water Raman scan found in sample set 2.\n",
      "WARNING: No Water Raman scan found in sample set 3.\n",
      "WARNING: No Water Raman scan found in sample set 5.\n",
      "WARNING: No Water Raman scan found in sample set 7.\n",
      "WARNING: No Water Raman scan found in sample set 9.\n",
      "WARNING: No Water Raman scan found in sample set 10.\n",
      "WARNING: More than one Blank EEM found in sample set 11, only blank_eem1.csv will be used going forward.\n",
      "WARNING: No Water Raman scan found in sample set 11.\n",
      "WARNING: No Water Raman scan found in sample set 12.\n",
      "WARNING: More than one Blank EEM found in sample set 13, only blank_eem1.csv will be used going forward.\n",
      "WARNING: No Water Raman scan found in sample set 13.\n",
      "WARNING: No Water Raman scan found in sample set 14.\n",
      "WARNING: No Water Raman scan found in sample set 15.\n",
      "WARNING: No Water Raman scan found in sample set 16.\n",
      "WARNING: More than one Blank EEM found in sample set 17, only blank_eem1.csv will be used going forward.\n",
      "WARNING: No Water Raman scan found in sample set 17.\n",
      "WARNING: No Sample EEM scans were found in sample set 17.\n"
     ]
    }
   ],
   "source": [
    "calibration_sources = {\n",
    "    \"cigarette\": \"ug/ml\",\n",
    "    \"diesel\": \"ug/ml\",\n",
    "    \"wood_smoke\": \"ug/ml\"\n",
    "}\n",
    "dataset = pyeem.datasets.Dataset(\n",
    "    data_dir=demo_data_dir,\n",
    "    raman_instrument=None,\n",
    "    absorbance_instrument=\"aqualog\",\n",
    "    eem_instrument=\"aqualog\",\n",
    "    calibration_sources=calibration_sources,\n",
    "    mode=\"w\"\n",
    ")"
   ]
  },
  {
   "cell_type": "markdown",
   "metadata": {
    "colab_type": "text",
    "id": "Vw0_c0RQS2T-"
   },
   "source": [
    "## Let's checkout the metadata\n",
    "- The metadata contains information about collected sample sets which are composed of a few different scan types."
   ]
  },
  {
   "cell_type": "code",
   "execution_count": 6,
   "metadata": {
    "colab": {
     "base_uri": "https://localhost:8080/",
     "height": 750
    },
    "colab_type": "code",
    "id": "gCWKhBt2S2T_",
    "outputId": "817b646e-eb49-4636-fd0a-2f1f82ab624b"
   },
   "outputs": [
    {
     "data": {
      "text/html": [
       "<div>\n",
       "<style scoped>\n",
       "    .dataframe tbody tr th:only-of-type {\n",
       "        vertical-align: middle;\n",
       "    }\n",
       "\n",
       "    .dataframe tbody tr th {\n",
       "        vertical-align: top;\n",
       "    }\n",
       "\n",
       "    .dataframe thead th {\n",
       "        text-align: right;\n",
       "    }\n",
       "</style>\n",
       "<table border=\"1\" class=\"dataframe\">\n",
       "  <thead>\n",
       "    <tr style=\"text-align: right;\">\n",
       "      <th></th>\n",
       "      <th></th>\n",
       "      <th>datetime_utc</th>\n",
       "      <th>filename</th>\n",
       "      <th>collected_by</th>\n",
       "      <th>description</th>\n",
       "      <th>comments</th>\n",
       "      <th>dilution_factor</th>\n",
       "      <th>water_raman_area</th>\n",
       "      <th>cigarette</th>\n",
       "      <th>diesel</th>\n",
       "      <th>wood_smoke</th>\n",
       "      <th>calibration_sample</th>\n",
       "      <th>prototypical_sample</th>\n",
       "      <th>test_sample</th>\n",
       "      <th>filepath</th>\n",
       "      <th>name</th>\n",
       "      <th>hdf_path</th>\n",
       "    </tr>\n",
       "    <tr>\n",
       "      <th>sample_set</th>\n",
       "      <th>scan_type</th>\n",
       "      <th></th>\n",
       "      <th></th>\n",
       "      <th></th>\n",
       "      <th></th>\n",
       "      <th></th>\n",
       "      <th></th>\n",
       "      <th></th>\n",
       "      <th></th>\n",
       "      <th></th>\n",
       "      <th></th>\n",
       "      <th></th>\n",
       "      <th></th>\n",
       "      <th></th>\n",
       "      <th></th>\n",
       "      <th></th>\n",
       "      <th></th>\n",
       "    </tr>\n",
       "  </thead>\n",
       "  <tbody>\n",
       "    <tr>\n",
       "      <th rowspan=\"5\" valign=\"top\">1</th>\n",
       "      <th>blank_eem</th>\n",
       "      <td>2016-11-30 00:00:00</td>\n",
       "      <td>blank_eem1.csv</td>\n",
       "      <td>JR</td>\n",
       "      <td>Spectroscopy Grade Blank</td>\n",
       "      <td>Raman units collected with 1 pixel binning so ...</td>\n",
       "      <td>1.0</td>\n",
       "      <td>2040.3794</td>\n",
       "      <td>0.00</td>\n",
       "      <td>0.0</td>\n",
       "      <td>0.0</td>\n",
       "      <td>False</td>\n",
       "      <td>False</td>\n",
       "      <td>False</td>\n",
       "      <td>/home/roboat/Documents/roboat/PyEEM/docs/sourc...</td>\n",
       "      <td>blank_eem1</td>\n",
       "      <td>raw_sample_sets/1/blank_eem1</td>\n",
       "    </tr>\n",
       "    <tr>\n",
       "      <th>sample_eem</th>\n",
       "      <td>2016-11-30 01:35:56</td>\n",
       "      <td>sample_eem1.csv</td>\n",
       "      <td>JR</td>\n",
       "      <td>Diesel1</td>\n",
       "      <td>Raman units collected with 1 pixel binning so ...</td>\n",
       "      <td>1.0</td>\n",
       "      <td>2040.3794</td>\n",
       "      <td>0.00</td>\n",
       "      <td>5.0</td>\n",
       "      <td>0.0</td>\n",
       "      <td>True</td>\n",
       "      <td>False</td>\n",
       "      <td>True</td>\n",
       "      <td>/home/roboat/Documents/roboat/PyEEM/docs/sourc...</td>\n",
       "      <td>sample_eem1</td>\n",
       "      <td>raw_sample_sets/1/sample_eem1</td>\n",
       "    </tr>\n",
       "    <tr>\n",
       "      <th>sample_eem</th>\n",
       "      <td>2016-11-30 03:11:52</td>\n",
       "      <td>sample_eem2.csv</td>\n",
       "      <td>JR</td>\n",
       "      <td>Cigarette from Cookstove Lab Hood</td>\n",
       "      <td>Raman units collected with 1 pixel binning so ...</td>\n",
       "      <td>1.0</td>\n",
       "      <td>2040.3794</td>\n",
       "      <td>5.00</td>\n",
       "      <td>0.0</td>\n",
       "      <td>0.0</td>\n",
       "      <td>True</td>\n",
       "      <td>True</td>\n",
       "      <td>False</td>\n",
       "      <td>/home/roboat/Documents/roboat/PyEEM/docs/sourc...</td>\n",
       "      <td>sample_eem2</td>\n",
       "      <td>raw_sample_sets/1/sample_eem2</td>\n",
       "    </tr>\n",
       "    <tr>\n",
       "      <th>sample_eem</th>\n",
       "      <td>2016-11-30 04:47:48</td>\n",
       "      <td>sample_eem3.csv</td>\n",
       "      <td>JR</td>\n",
       "      <td>Cigarette from Cookstove Lab Hood</td>\n",
       "      <td>Raman units collected with 1 pixel binning so ...</td>\n",
       "      <td>1.0</td>\n",
       "      <td>2040.3794</td>\n",
       "      <td>0.77</td>\n",
       "      <td>0.0</td>\n",
       "      <td>0.0</td>\n",
       "      <td>True</td>\n",
       "      <td>False</td>\n",
       "      <td>True</td>\n",
       "      <td>/home/roboat/Documents/roboat/PyEEM/docs/sourc...</td>\n",
       "      <td>sample_eem3</td>\n",
       "      <td>raw_sample_sets/1/sample_eem3</td>\n",
       "    </tr>\n",
       "    <tr>\n",
       "      <th>sample_eem</th>\n",
       "      <td>2016-11-30 06:23:44</td>\n",
       "      <td>sample_eem4.csv</td>\n",
       "      <td>JR</td>\n",
       "      <td>Diesel3</td>\n",
       "      <td>Raman units collected with 1 pixel binning so ...</td>\n",
       "      <td>1.0</td>\n",
       "      <td>2040.3794</td>\n",
       "      <td>0.00</td>\n",
       "      <td>5.0</td>\n",
       "      <td>0.0</td>\n",
       "      <td>True</td>\n",
       "      <td>False</td>\n",
       "      <td>True</td>\n",
       "      <td>/home/roboat/Documents/roboat/PyEEM/docs/sourc...</td>\n",
       "      <td>sample_eem4</td>\n",
       "      <td>raw_sample_sets/1/sample_eem4</td>\n",
       "    </tr>\n",
       "  </tbody>\n",
       "</table>\n",
       "</div>"
      ],
      "text/plain": [
       "                             datetime_utc         filename collected_by  \\\n",
       "sample_set scan_type                                                      \n",
       "1          blank_eem  2016-11-30 00:00:00   blank_eem1.csv           JR   \n",
       "           sample_eem 2016-11-30 01:35:56  sample_eem1.csv           JR   \n",
       "           sample_eem 2016-11-30 03:11:52  sample_eem2.csv           JR   \n",
       "           sample_eem 2016-11-30 04:47:48  sample_eem3.csv           JR   \n",
       "           sample_eem 2016-11-30 06:23:44  sample_eem4.csv           JR   \n",
       "\n",
       "                                             description  \\\n",
       "sample_set scan_type                                       \n",
       "1          blank_eem            Spectroscopy Grade Blank   \n",
       "           sample_eem                            Diesel1   \n",
       "           sample_eem  Cigarette from Cookstove Lab Hood   \n",
       "           sample_eem  Cigarette from Cookstove Lab Hood   \n",
       "           sample_eem                            Diesel3   \n",
       "\n",
       "                                                                comments  \\\n",
       "sample_set scan_type                                                       \n",
       "1          blank_eem   Raman units collected with 1 pixel binning so ...   \n",
       "           sample_eem  Raman units collected with 1 pixel binning so ...   \n",
       "           sample_eem  Raman units collected with 1 pixel binning so ...   \n",
       "           sample_eem  Raman units collected with 1 pixel binning so ...   \n",
       "           sample_eem  Raman units collected with 1 pixel binning so ...   \n",
       "\n",
       "                       dilution_factor  water_raman_area  cigarette  diesel  \\\n",
       "sample_set scan_type                                                          \n",
       "1          blank_eem               1.0         2040.3794       0.00     0.0   \n",
       "           sample_eem              1.0         2040.3794       0.00     5.0   \n",
       "           sample_eem              1.0         2040.3794       5.00     0.0   \n",
       "           sample_eem              1.0         2040.3794       0.77     0.0   \n",
       "           sample_eem              1.0         2040.3794       0.00     5.0   \n",
       "\n",
       "                       wood_smoke  calibration_sample  prototypical_sample  \\\n",
       "sample_set scan_type                                                         \n",
       "1          blank_eem          0.0               False                False   \n",
       "           sample_eem         0.0                True                False   \n",
       "           sample_eem         0.0                True                 True   \n",
       "           sample_eem         0.0                True                False   \n",
       "           sample_eem         0.0                True                False   \n",
       "\n",
       "                       test_sample  \\\n",
       "sample_set scan_type                 \n",
       "1          blank_eem         False   \n",
       "           sample_eem         True   \n",
       "           sample_eem        False   \n",
       "           sample_eem         True   \n",
       "           sample_eem         True   \n",
       "\n",
       "                                                                filepath  \\\n",
       "sample_set scan_type                                                       \n",
       "1          blank_eem   /home/roboat/Documents/roboat/PyEEM/docs/sourc...   \n",
       "           sample_eem  /home/roboat/Documents/roboat/PyEEM/docs/sourc...   \n",
       "           sample_eem  /home/roboat/Documents/roboat/PyEEM/docs/sourc...   \n",
       "           sample_eem  /home/roboat/Documents/roboat/PyEEM/docs/sourc...   \n",
       "           sample_eem  /home/roboat/Documents/roboat/PyEEM/docs/sourc...   \n",
       "\n",
       "                              name                       hdf_path  \n",
       "sample_set scan_type                                               \n",
       "1          blank_eem    blank_eem1   raw_sample_sets/1/blank_eem1  \n",
       "           sample_eem  sample_eem1  raw_sample_sets/1/sample_eem1  \n",
       "           sample_eem  sample_eem2  raw_sample_sets/1/sample_eem2  \n",
       "           sample_eem  sample_eem3  raw_sample_sets/1/sample_eem3  \n",
       "           sample_eem  sample_eem4  raw_sample_sets/1/sample_eem4  "
      ]
     },
     "metadata": {},
     "output_type": "display_data"
    }
   ],
   "source": [
    "display(dataset.meta_df.head())"
   ]
  },
  {
   "cell_type": "markdown",
   "metadata": {
    "colab_type": "text",
    "id": "bL7TU8HES2UD"
   },
   "source": [
    "## Checkout the metadata summary information"
   ]
  },
  {
   "cell_type": "code",
   "execution_count": 7,
   "metadata": {
    "colab": {
     "base_uri": "https://localhost:8080/",
     "height": 76
    },
    "colab_type": "code",
    "id": "gZfQHLUPS2UH",
    "outputId": "0a207a8a-8bc4-409b-a6e6-aba9574f9593"
   },
   "outputs": [
    {
     "data": {
      "text/html": [
       "<div>\n",
       "<style scoped>\n",
       "    .dataframe tbody tr th:only-of-type {\n",
       "        vertical-align: middle;\n",
       "    }\n",
       "\n",
       "    .dataframe tbody tr th {\n",
       "        vertical-align: top;\n",
       "    }\n",
       "\n",
       "    .dataframe thead th {\n",
       "        text-align: right;\n",
       "    }\n",
       "</style>\n",
       "<table border=\"1\" class=\"dataframe\">\n",
       "  <thead>\n",
       "    <tr style=\"text-align: right;\">\n",
       "      <th></th>\n",
       "      <th>Start datetime (UTC)</th>\n",
       "      <th>End datetime (UTC)</th>\n",
       "      <th>Number of sample sets</th>\n",
       "      <th>Number of blank EEMs</th>\n",
       "      <th>Number of sample EEMs</th>\n",
       "      <th>Number of water raman scans</th>\n",
       "      <th>Number of absorbance scans</th>\n",
       "    </tr>\n",
       "  </thead>\n",
       "  <tbody>\n",
       "    <tr>\n",
       "      <th>0</th>\n",
       "      <td>2016-11-30</td>\n",
       "      <td>2018-10-26 23:59:00</td>\n",
       "      <td>14</td>\n",
       "      <td>20</td>\n",
       "      <td>107</td>\n",
       "      <td>0</td>\n",
       "      <td>107</td>\n",
       "    </tr>\n",
       "  </tbody>\n",
       "</table>\n",
       "</div>"
      ],
      "text/plain": [
       "  Start datetime (UTC)  End datetime (UTC)  Number of sample sets  \\\n",
       "0           2016-11-30 2018-10-26 23:59:00                     14   \n",
       "\n",
       "   Number of blank EEMs  Number of sample EEMs  Number of water raman scans  \\\n",
       "0                    20                    107                            0   \n",
       "\n",
       "   Number of absorbance scans  \n",
       "0                         107  "
      ]
     },
     "execution_count": 7,
     "metadata": {},
     "output_type": "execute_result"
    }
   ],
   "source": [
    "dataset.metadata_summary_info()"
   ]
  },
  {
   "cell_type": "markdown",
   "metadata": {
    "colab_type": "text",
    "id": "P7RFgQ6nS2UK"
   },
   "source": [
    "## Create a preprocessing routine\n",
    "- The demo dataset contains raw scans, in order to analyze and interpret this data, we must first apply several preprocessing steps."
   ]
  },
  {
   "cell_type": "code",
   "execution_count": 8,
   "metadata": {
    "colab": {
     "base_uri": "https://localhost:8080/",
     "height": 252
    },
    "colab_type": "code",
    "id": "066qt5LqS2UK",
    "outputId": "36aed09b-c3ed-4c9a-c845-48712e77b989"
   },
   "outputs": [
    {
     "data": {
      "text/html": [
       "<div>\n",
       "<style scoped>\n",
       "    .dataframe tbody tr th:only-of-type {\n",
       "        vertical-align: middle;\n",
       "    }\n",
       "\n",
       "    .dataframe tbody tr th {\n",
       "        vertical-align: top;\n",
       "    }\n",
       "\n",
       "    .dataframe thead th {\n",
       "        text-align: right;\n",
       "    }\n",
       "</style>\n",
       "<table border=\"1\" class=\"dataframe\">\n",
       "  <thead>\n",
       "    <tr style=\"text-align: right;\">\n",
       "      <th></th>\n",
       "      <th>step_name</th>\n",
       "      <th>hdf_path</th>\n",
       "    </tr>\n",
       "    <tr>\n",
       "      <th>step_order</th>\n",
       "      <th></th>\n",
       "      <th></th>\n",
       "    </tr>\n",
       "  </thead>\n",
       "  <tbody>\n",
       "    <tr>\n",
       "      <th>0</th>\n",
       "      <td>raw</td>\n",
       "      <td>raw_sample_sets/</td>\n",
       "    </tr>\n",
       "    <tr>\n",
       "      <th>1</th>\n",
       "      <td>crop</td>\n",
       "      <td>preprocessing/filters/crop</td>\n",
       "    </tr>\n",
       "    <tr>\n",
       "      <th>2</th>\n",
       "      <td>blank_subtraction</td>\n",
       "      <td>preprocessing/corrections/blank_subtraction</td>\n",
       "    </tr>\n",
       "    <tr>\n",
       "      <th>3</th>\n",
       "      <td>inner_filter_effect</td>\n",
       "      <td>preprocessing/corrections/inner_filter_effect</td>\n",
       "    </tr>\n",
       "    <tr>\n",
       "      <th>4</th>\n",
       "      <td>raman_normalization</td>\n",
       "      <td>preprocessing/corrections/raman_normalization</td>\n",
       "    </tr>\n",
       "    <tr>\n",
       "      <th>5</th>\n",
       "      <td>scatter_removal</td>\n",
       "      <td>preprocessing/corrections/scatter_removal</td>\n",
       "    </tr>\n",
       "    <tr>\n",
       "      <th>6</th>\n",
       "      <td>complete</td>\n",
       "      <td>preprocessing/complete/</td>\n",
       "    </tr>\n",
       "  </tbody>\n",
       "</table>\n",
       "</div>"
      ],
      "text/plain": [
       "                      step_name                                       hdf_path\n",
       "step_order                                                                    \n",
       "0                           raw                               raw_sample_sets/\n",
       "1                          crop                     preprocessing/filters/crop\n",
       "2             blank_subtraction    preprocessing/corrections/blank_subtraction\n",
       "3           inner_filter_effect  preprocessing/corrections/inner_filter_effect\n",
       "4           raman_normalization  preprocessing/corrections/raman_normalization\n",
       "5               scatter_removal      preprocessing/corrections/scatter_removal\n",
       "6                      complete                        preprocessing/complete/"
      ]
     },
     "metadata": {},
     "output_type": "display_data"
    }
   ],
   "source": [
    "routine_df = pyeem.preprocessing.create_routine(\n",
    "    crop = True,\n",
    "    discrete_wavelengths = False,\n",
    "    gaussian_smoothing = False,\n",
    "    blank_subtraction = True,\n",
    "    inner_filter_effect = True,\n",
    "    raman_normalization = True,\n",
    "    scatter_removal = True,\n",
    "    dilution = False,\n",
    ")\n",
    "\n",
    "display(routine_df)"
   ]
  },
  {
   "cell_type": "markdown",
   "metadata": {
    "colab_type": "text",
    "id": "oR3SnGzzS2UN"
   },
   "source": [
    "## Execute the preprocessing routine\n",
    "- Each preprocessing step has certain knobs and dials you can tune to have them run to your liking. It is worth checking the documentation to learn more about these customizations.\n",
    "- Please note that depending on the steps and settings you've chosen as well as your dataset's size, the time it takes for this step to complete will vary."
   ]
  },
  {
   "cell_type": "code",
   "execution_count": 9,
   "metadata": {
    "colab": {
     "base_uri": "https://localhost:8080/",
     "height": 428
    },
    "colab_type": "code",
    "id": "PsirtEcdS2UO",
    "outputId": "336fa47b-d253-4337-97d7-cc8b3d4b87de",
    "scrolled": false
   },
   "outputs": [
    {
     "name": "stderr",
     "output_type": "stream",
     "text": [
      "Preprocessing scan sets: 100%|██████████| 14/14 [01:32<00:00,  6.58s/it]\n"
     ]
    },
    {
     "data": {
      "text/html": [
       "<div>\n",
       "<style scoped>\n",
       "    .dataframe tbody tr th:only-of-type {\n",
       "        vertical-align: middle;\n",
       "    }\n",
       "\n",
       "    .dataframe tbody tr th {\n",
       "        vertical-align: top;\n",
       "    }\n",
       "\n",
       "    .dataframe thead th {\n",
       "        text-align: right;\n",
       "    }\n",
       "</style>\n",
       "<table border=\"1\" class=\"dataframe\">\n",
       "  <thead>\n",
       "    <tr style=\"text-align: right;\">\n",
       "      <th></th>\n",
       "      <th></th>\n",
       "      <th></th>\n",
       "      <th></th>\n",
       "      <th>step_completed</th>\n",
       "      <th>step_exception</th>\n",
       "      <th>hdf_path</th>\n",
       "      <th>units</th>\n",
       "    </tr>\n",
       "    <tr>\n",
       "      <th>sample_set</th>\n",
       "      <th>scan_type</th>\n",
       "      <th>name</th>\n",
       "      <th>step_name</th>\n",
       "      <th></th>\n",
       "      <th></th>\n",
       "      <th></th>\n",
       "      <th></th>\n",
       "    </tr>\n",
       "  </thead>\n",
       "  <tbody>\n",
       "    <tr>\n",
       "      <th rowspan=\"5\" valign=\"top\">1</th>\n",
       "      <th rowspan=\"2\" valign=\"top\">blank_eem</th>\n",
       "      <th rowspan=\"2\" valign=\"top\">blank_eem1</th>\n",
       "      <th>raw</th>\n",
       "      <td>True</td>\n",
       "      <td>None</td>\n",
       "      <td>raw_sample_sets/1/blank_eem1</td>\n",
       "      <td>Intensity, AU</td>\n",
       "    </tr>\n",
       "    <tr>\n",
       "      <th>crop</th>\n",
       "      <td>True</td>\n",
       "      <td>None</td>\n",
       "      <td>preprocessing/filters/crop/1/blank_eem1</td>\n",
       "      <td>Intensity, AU</td>\n",
       "    </tr>\n",
       "    <tr>\n",
       "      <th rowspan=\"3\" valign=\"top\">sample_eem</th>\n",
       "      <th rowspan=\"3\" valign=\"top\">sample_eem1</th>\n",
       "      <th>raw</th>\n",
       "      <td>True</td>\n",
       "      <td>None</td>\n",
       "      <td>raw_sample_sets/1/sample_eem1</td>\n",
       "      <td>Intensity, AU</td>\n",
       "    </tr>\n",
       "    <tr>\n",
       "      <th>crop</th>\n",
       "      <td>True</td>\n",
       "      <td>None</td>\n",
       "      <td>preprocessing/filters/crop/1/sample_eem1</td>\n",
       "      <td>Intensity, AU</td>\n",
       "    </tr>\n",
       "    <tr>\n",
       "      <th>blank_subtraction</th>\n",
       "      <td>True</td>\n",
       "      <td>None</td>\n",
       "      <td>preprocessing/corrections/blank_subtraction/1/...</td>\n",
       "      <td>Intensity, AU</td>\n",
       "    </tr>\n",
       "    <tr>\n",
       "      <th>...</th>\n",
       "      <th>...</th>\n",
       "      <th>...</th>\n",
       "      <th>...</th>\n",
       "      <td>...</td>\n",
       "      <td>...</td>\n",
       "      <td>...</td>\n",
       "      <td>...</td>\n",
       "    </tr>\n",
       "    <tr>\n",
       "      <th rowspan=\"3\" valign=\"top\">16</th>\n",
       "      <th rowspan=\"3\" valign=\"top\">sample_eem</th>\n",
       "      <th rowspan=\"3\" valign=\"top\">sample_eem1</th>\n",
       "      <th>raman_normalization</th>\n",
       "      <td>True</td>\n",
       "      <td>None</td>\n",
       "      <td>preprocessing/corrections/raman_normalization/...</td>\n",
       "      <td>Intensity, RU</td>\n",
       "    </tr>\n",
       "    <tr>\n",
       "      <th>scatter_removal</th>\n",
       "      <td>True</td>\n",
       "      <td>None</td>\n",
       "      <td>preprocessing/corrections/scatter_removal/16/s...</td>\n",
       "      <td>Intensity, RU</td>\n",
       "    </tr>\n",
       "    <tr>\n",
       "      <th>complete</th>\n",
       "      <td>True</td>\n",
       "      <td>None</td>\n",
       "      <td>preprocessing/complete/16/sample_eem1</td>\n",
       "      <td>Intensity, RU</td>\n",
       "    </tr>\n",
       "    <tr>\n",
       "      <th rowspan=\"2\" valign=\"top\">17</th>\n",
       "      <th rowspan=\"2\" valign=\"top\">blank_eem</th>\n",
       "      <th rowspan=\"2\" valign=\"top\">blank_eem1</th>\n",
       "      <th>raw</th>\n",
       "      <td>True</td>\n",
       "      <td>None</td>\n",
       "      <td>raw_sample_sets/17/blank_eem1</td>\n",
       "      <td>Intensity, AU</td>\n",
       "    </tr>\n",
       "    <tr>\n",
       "      <th>crop</th>\n",
       "      <td>True</td>\n",
       "      <td>None</td>\n",
       "      <td>preprocessing/filters/crop/17/blank_eem1</td>\n",
       "      <td>Intensity, AU</td>\n",
       "    </tr>\n",
       "  </tbody>\n",
       "</table>\n",
       "<p>777 rows × 4 columns</p>\n",
       "</div>"
      ],
      "text/plain": [
       "                                                      step_completed  \\\n",
       "sample_set scan_type  name        step_name                            \n",
       "1          blank_eem  blank_eem1  raw                           True   \n",
       "                                  crop                          True   \n",
       "           sample_eem sample_eem1 raw                           True   \n",
       "                                  crop                          True   \n",
       "                                  blank_subtraction             True   \n",
       "...                                                              ...   \n",
       "16         sample_eem sample_eem1 raman_normalization           True   \n",
       "                                  scatter_removal               True   \n",
       "                                  complete                      True   \n",
       "17         blank_eem  blank_eem1  raw                           True   \n",
       "                                  crop                          True   \n",
       "\n",
       "                                                      step_exception  \\\n",
       "sample_set scan_type  name        step_name                            \n",
       "1          blank_eem  blank_eem1  raw                           None   \n",
       "                                  crop                          None   \n",
       "           sample_eem sample_eem1 raw                           None   \n",
       "                                  crop                          None   \n",
       "                                  blank_subtraction             None   \n",
       "...                                                              ...   \n",
       "16         sample_eem sample_eem1 raman_normalization           None   \n",
       "                                  scatter_removal               None   \n",
       "                                  complete                      None   \n",
       "17         blank_eem  blank_eem1  raw                           None   \n",
       "                                  crop                          None   \n",
       "\n",
       "                                                                                                hdf_path  \\\n",
       "sample_set scan_type  name        step_name                                                                \n",
       "1          blank_eem  blank_eem1  raw                                       raw_sample_sets/1/blank_eem1   \n",
       "                                  crop                           preprocessing/filters/crop/1/blank_eem1   \n",
       "           sample_eem sample_eem1 raw                                      raw_sample_sets/1/sample_eem1   \n",
       "                                  crop                          preprocessing/filters/crop/1/sample_eem1   \n",
       "                                  blank_subtraction    preprocessing/corrections/blank_subtraction/1/...   \n",
       "...                                                                                                  ...   \n",
       "16         sample_eem sample_eem1 raman_normalization  preprocessing/corrections/raman_normalization/...   \n",
       "                                  scatter_removal      preprocessing/corrections/scatter_removal/16/s...   \n",
       "                                  complete                         preprocessing/complete/16/sample_eem1   \n",
       "17         blank_eem  blank_eem1  raw                                      raw_sample_sets/17/blank_eem1   \n",
       "                                  crop                          preprocessing/filters/crop/17/blank_eem1   \n",
       "\n",
       "                                                               units  \n",
       "sample_set scan_type  name        step_name                           \n",
       "1          blank_eem  blank_eem1  raw                  Intensity, AU  \n",
       "                                  crop                 Intensity, AU  \n",
       "           sample_eem sample_eem1 raw                  Intensity, AU  \n",
       "                                  crop                 Intensity, AU  \n",
       "                                  blank_subtraction    Intensity, AU  \n",
       "...                                                              ...  \n",
       "16         sample_eem sample_eem1 raman_normalization  Intensity, RU  \n",
       "                                  scatter_removal      Intensity, RU  \n",
       "                                  complete             Intensity, RU  \n",
       "17         blank_eem  blank_eem1  raw                  Intensity, AU  \n",
       "                                  crop                 Intensity, AU  \n",
       "\n",
       "[777 rows x 4 columns]"
      ]
     },
     "metadata": {},
     "output_type": "display_data"
    }
   ],
   "source": [
    "crop_dimensions = {\n",
    "    \"emission_bounds\": (246, 573),\n",
    "    \"excitation_bounds\": (224, float(\"inf\"))\n",
    "}\n",
    "routine_results_df = pyeem.preprocessing.perform_routine(\n",
    "    dataset,\n",
    "    routine_df,\n",
    "    crop_dims=crop_dimensions,\n",
    "    raman_source_type = \"metadata\",\n",
    "    fill=\"interp\",\n",
    "    progress_bar=True\n",
    ")\n",
    "\n",
    "display(routine_results_df)"
   ]
  },
  {
   "cell_type": "markdown",
   "metadata": {
    "colab_type": "text",
    "id": "IC-Wu8PGS2UR"
   },
   "source": [
    "## Check to see if any of the steps failed to complete\n",
    "- If you are using a demo dataset, you should see an empty dataframe."
   ]
  },
  {
   "cell_type": "code",
   "execution_count": 10,
   "metadata": {
    "colab": {
     "base_uri": "https://localhost:8080/",
     "height": 76
    },
    "colab_type": "code",
    "id": "9xX0wSfwS2UR",
    "outputId": "07a6a289-ec77-432d-b12a-41cf65f8f4d1",
    "scrolled": false
   },
   "outputs": [
    {
     "data": {
      "text/html": [
       "<div>\n",
       "<style scoped>\n",
       "    .dataframe tbody tr th:only-of-type {\n",
       "        vertical-align: middle;\n",
       "    }\n",
       "\n",
       "    .dataframe tbody tr th {\n",
       "        vertical-align: top;\n",
       "    }\n",
       "\n",
       "    .dataframe thead th {\n",
       "        text-align: right;\n",
       "    }\n",
       "</style>\n",
       "<table border=\"1\" class=\"dataframe\">\n",
       "  <thead>\n",
       "    <tr style=\"text-align: right;\">\n",
       "      <th></th>\n",
       "      <th></th>\n",
       "      <th></th>\n",
       "      <th></th>\n",
       "      <th>step_completed</th>\n",
       "      <th>step_exception</th>\n",
       "      <th>hdf_path</th>\n",
       "      <th>units</th>\n",
       "    </tr>\n",
       "    <tr>\n",
       "      <th>sample_set</th>\n",
       "      <th>scan_type</th>\n",
       "      <th>name</th>\n",
       "      <th>step_name</th>\n",
       "      <th></th>\n",
       "      <th></th>\n",
       "      <th></th>\n",
       "      <th></th>\n",
       "    </tr>\n",
       "  </thead>\n",
       "  <tbody>\n",
       "  </tbody>\n",
       "</table>\n",
       "</div>"
      ],
      "text/plain": [
       "Empty DataFrame\n",
       "Columns: [step_completed, step_exception, hdf_path, units]\n",
       "Index: []"
      ]
     },
     "metadata": {},
     "output_type": "display_data"
    }
   ],
   "source": [
    "display(routine_results_df[\n",
    "    routine_results_df[\"step_exception\"].notna()\n",
    "])"
   ]
  },
  {
   "cell_type": "markdown",
   "metadata": {
    "colab_type": "text",
    "id": "IUCS5hslS2UV"
   },
   "source": [
    "## Visualize the preprocessing steps for a single sample"
   ]
  },
  {
   "cell_type": "code",
   "execution_count": 11,
   "metadata": {
    "colab": {
     "base_uri": "https://localhost:8080/",
     "height": 1000
    },
    "colab_type": "code",
    "id": "N1wkgeXhS2UW",
    "outputId": "eddfa1b1-6878-4c7a-f65e-c1b4ce54c63a",
    "scrolled": false
   },
   "outputs": [
    {
     "data": {
      "image/png": "[encoded data removed]",
      "text/plain": [
       "<Figure size 1152x576 with 16 Axes>"
      ]
     },
     "metadata": {
      "needs_background": "light"
     },
     "output_type": "display_data"
    }
   ],
   "source": [
    "import matplotlib.pyplot as plt\n",
    "import matplotlib\n",
    "\n",
    "sample_set = 2\n",
    "sample_name = \"sample_eem1\"\n",
    "axes = pyeem.plots.preprocessing_routine_plot(\n",
    "    dataset,\n",
    "    routine_results_df,\n",
    "    sample_set=sample_set,\n",
    "    sample_name=sample_name,\n",
    "    plot_type=\"contour\",\n",
    ")\n",
    "plt.show()"
   ]
  },
  {
   "cell_type": "markdown",
   "metadata": {
    "colab_type": "text",
    "id": "WqI2gXfIS2UZ"
   },
   "source": [
    "## Load the calibration information"
   ]
  },
  {
   "cell_type": "code",
   "execution_count": 12,
   "metadata": {
    "colab": {
     "base_uri": "https://localhost:8080/",
     "height": 448
    },
    "colab_type": "code",
    "id": "3uISxR4tS2UZ",
    "outputId": "c4401158-8d85-410f-f682-0b9d2dda9ac4",
    "scrolled": false
   },
   "outputs": [
    {
     "data": {
      "text/html": [
       "<div>\n",
       "<style scoped>\n",
       "    .dataframe tbody tr th:only-of-type {\n",
       "        vertical-align: middle;\n",
       "    }\n",
       "\n",
       "    .dataframe tbody tr th {\n",
       "        vertical-align: top;\n",
       "    }\n",
       "\n",
       "    .dataframe thead th {\n",
       "        text-align: right;\n",
       "    }\n",
       "</style>\n",
       "<table border=\"1\" class=\"dataframe\">\n",
       "  <thead>\n",
       "    <tr style=\"text-align: right;\">\n",
       "      <th></th>\n",
       "      <th></th>\n",
       "      <th></th>\n",
       "      <th></th>\n",
       "      <th></th>\n",
       "      <th></th>\n",
       "      <th></th>\n",
       "      <th>concentration</th>\n",
       "      <th>integrated_intensity</th>\n",
       "      <th>prototypical_sample</th>\n",
       "      <th>hdf_path</th>\n",
       "    </tr>\n",
       "    <tr>\n",
       "      <th>source</th>\n",
       "      <th>source_units</th>\n",
       "      <th>intensity_units</th>\n",
       "      <th>measurement_units</th>\n",
       "      <th>slope</th>\n",
       "      <th>intercept</th>\n",
       "      <th>r_squared</th>\n",
       "      <th></th>\n",
       "      <th></th>\n",
       "      <th></th>\n",
       "      <th></th>\n",
       "    </tr>\n",
       "  </thead>\n",
       "  <tbody>\n",
       "    <tr>\n",
       "      <th rowspan=\"5\" valign=\"top\">cigarette</th>\n",
       "      <th rowspan=\"5\" valign=\"top\">ug/ml</th>\n",
       "      <th rowspan=\"5\" valign=\"top\">Intensity, RU</th>\n",
       "      <th rowspan=\"5\" valign=\"top\">Integrated Intensity, RU</th>\n",
       "      <th rowspan=\"5\" valign=\"top\">2533.174674</th>\n",
       "      <th rowspan=\"5\" valign=\"top\">-620.587879</th>\n",
       "      <th>0.929983</th>\n",
       "      <td>5.00</td>\n",
       "      <td>9937.219073</td>\n",
       "      <td>True</td>\n",
       "      <td>preprocessing/complete/1/sample_eem2</td>\n",
       "    </tr>\n",
       "    <tr>\n",
       "      <th>0.929983</th>\n",
       "      <td>0.77</td>\n",
       "      <td>1598.421018</td>\n",
       "      <td>False</td>\n",
       "      <td>preprocessing/complete/1/sample_eem3</td>\n",
       "    </tr>\n",
       "    <tr>\n",
       "      <th>0.929983</th>\n",
       "      <td>5.00</td>\n",
       "      <td>11369.642711</td>\n",
       "      <td>True</td>\n",
       "      <td>preprocessing/complete/1/sample_eem6</td>\n",
       "    </tr>\n",
       "    <tr>\n",
       "      <th>0.929983</th>\n",
       "      <td>5.00</td>\n",
       "      <td>14786.022223</td>\n",
       "      <td>False</td>\n",
       "      <td>preprocessing/complete/7/sample_eem1</td>\n",
       "    </tr>\n",
       "    <tr>\n",
       "      <th>0.929983</th>\n",
       "      <td>5.00</td>\n",
       "      <td>14005.964492</td>\n",
       "      <td>False</td>\n",
       "      <td>preprocessing/complete/9/sample_eem1</td>\n",
       "    </tr>\n",
       "    <tr>\n",
       "      <th>...</th>\n",
       "      <th>...</th>\n",
       "      <th>...</th>\n",
       "      <th>...</th>\n",
       "      <th>...</th>\n",
       "      <th>...</th>\n",
       "      <th>...</th>\n",
       "      <td>...</td>\n",
       "      <td>...</td>\n",
       "      <td>...</td>\n",
       "      <td>...</td>\n",
       "    </tr>\n",
       "    <tr>\n",
       "      <th rowspan=\"5\" valign=\"top\">wood_smoke</th>\n",
       "      <th rowspan=\"5\" valign=\"top\">ug/ml</th>\n",
       "      <th rowspan=\"5\" valign=\"top\">Intensity, RU</th>\n",
       "      <th rowspan=\"5\" valign=\"top\">Integrated Intensity, RU</th>\n",
       "      <th rowspan=\"5\" valign=\"top\">4863.773278</th>\n",
       "      <th rowspan=\"5\" valign=\"top\">-1584.949118</th>\n",
       "      <th>0.460458</th>\n",
       "      <td>2.00</td>\n",
       "      <td>3387.998718</td>\n",
       "      <td>False</td>\n",
       "      <td>preprocessing/complete/15/sample_eem16</td>\n",
       "    </tr>\n",
       "    <tr>\n",
       "      <th>0.460458</th>\n",
       "      <td>2.00</td>\n",
       "      <td>10022.795882</td>\n",
       "      <td>False</td>\n",
       "      <td>preprocessing/complete/15/sample_eem6</td>\n",
       "    </tr>\n",
       "    <tr>\n",
       "      <th>0.460458</th>\n",
       "      <td>1.00</td>\n",
       "      <td>5014.273195</td>\n",
       "      <td>False</td>\n",
       "      <td>preprocessing/complete/15/sample_eem5</td>\n",
       "    </tr>\n",
       "    <tr>\n",
       "      <th>0.460458</th>\n",
       "      <td>0.50</td>\n",
       "      <td>2636.485337</td>\n",
       "      <td>False</td>\n",
       "      <td>preprocessing/complete/15/sample_eem4</td>\n",
       "    </tr>\n",
       "    <tr>\n",
       "      <th>0.460458</th>\n",
       "      <td>5.00</td>\n",
       "      <td>23200.187472</td>\n",
       "      <td>True</td>\n",
       "      <td>preprocessing/complete/16/sample_eem1</td>\n",
       "    </tr>\n",
       "  </tbody>\n",
       "</table>\n",
       "<p>81 rows × 4 columns</p>\n",
       "</div>"
      ],
      "text/plain": [
       "                                                                                                     concentration  \\\n",
       "source     source_units intensity_units measurement_units        slope       intercept    r_squared                  \n",
       "cigarette  ug/ml        Intensity, RU   Integrated Intensity, RU 2533.174674 -620.587879  0.929983            5.00   \n",
       "                                                                                          0.929983            0.77   \n",
       "                                                                                          0.929983            5.00   \n",
       "                                                                                          0.929983            5.00   \n",
       "                                                                                          0.929983            5.00   \n",
       "...                                                                                                            ...   \n",
       "wood_smoke ug/ml        Intensity, RU   Integrated Intensity, RU 4863.773278 -1584.949118 0.460458            2.00   \n",
       "                                                                                          0.460458            2.00   \n",
       "                                                                                          0.460458            1.00   \n",
       "                                                                                          0.460458            0.50   \n",
       "                                                                                          0.460458            5.00   \n",
       "\n",
       "                                                                                                     integrated_intensity  \\\n",
       "source     source_units intensity_units measurement_units        slope       intercept    r_squared                         \n",
       "cigarette  ug/ml        Intensity, RU   Integrated Intensity, RU 2533.174674 -620.587879  0.929983            9937.219073   \n",
       "                                                                                          0.929983            1598.421018   \n",
       "                                                                                          0.929983           11369.642711   \n",
       "                                                                                          0.929983           14786.022223   \n",
       "                                                                                          0.929983           14005.964492   \n",
       "...                                                                                                                   ...   \n",
       "wood_smoke ug/ml        Intensity, RU   Integrated Intensity, RU 4863.773278 -1584.949118 0.460458            3387.998718   \n",
       "                                                                                          0.460458           10022.795882   \n",
       "                                                                                          0.460458            5014.273195   \n",
       "                                                                                          0.460458            2636.485337   \n",
       "                                                                                          0.460458           23200.187472   \n",
       "\n",
       "                                                                                                     prototypical_sample  \\\n",
       "source     source_units intensity_units measurement_units        slope       intercept    r_squared                        \n",
       "cigarette  ug/ml        Intensity, RU   Integrated Intensity, RU 2533.174674 -620.587879  0.929983                  True   \n",
       "                                                                                          0.929983                 False   \n",
       "                                                                                          0.929983                  True   \n",
       "                                                                                          0.929983                 False   \n",
       "                                                                                          0.929983                 False   \n",
       "...                                                                                                                  ...   \n",
       "wood_smoke ug/ml        Intensity, RU   Integrated Intensity, RU 4863.773278 -1584.949118 0.460458                 False   \n",
       "                                                                                          0.460458                 False   \n",
       "                                                                                          0.460458                 False   \n",
       "                                                                                          0.460458                 False   \n",
       "                                                                                          0.460458                  True   \n",
       "\n",
       "                                                                                                                                   hdf_path  \n",
       "source     source_units intensity_units measurement_units        slope       intercept    r_squared                                          \n",
       "cigarette  ug/ml        Intensity, RU   Integrated Intensity, RU 2533.174674 -620.587879  0.929983     preprocessing/complete/1/sample_eem2  \n",
       "                                                                                          0.929983     preprocessing/complete/1/sample_eem3  \n",
       "                                                                                          0.929983     preprocessing/complete/1/sample_eem6  \n",
       "                                                                                          0.929983     preprocessing/complete/7/sample_eem1  \n",
       "                                                                                          0.929983     preprocessing/complete/9/sample_eem1  \n",
       "...                                                                                                                                     ...  \n",
       "wood_smoke ug/ml        Intensity, RU   Integrated Intensity, RU 4863.773278 -1584.949118 0.460458   preprocessing/complete/15/sample_eem16  \n",
       "                                                                                          0.460458    preprocessing/complete/15/sample_eem6  \n",
       "                                                                                          0.460458    preprocessing/complete/15/sample_eem5  \n",
       "                                                                                          0.460458    preprocessing/complete/15/sample_eem4  \n",
       "                                                                                          0.460458    preprocessing/complete/16/sample_eem1  \n",
       "\n",
       "[81 rows x 4 columns]"
      ]
     },
     "metadata": {},
     "output_type": "display_data"
    }
   ],
   "source": [
    "cal_df = pyeem.preprocessing.calibration(\n",
    "    dataset,\n",
    "    routine_results_df\n",
    ")\n",
    "display(cal_df)"
   ]
  },
  {
   "cell_type": "markdown",
   "metadata": {
    "colab_type": "text",
    "id": "ufI7Y2ypS2Uc"
   },
   "source": [
    "## Checkout the calibration summary information"
   ]
  },
  {
   "cell_type": "code",
   "execution_count": 13,
   "metadata": {
    "colab": {
     "base_uri": "https://localhost:8080/",
     "height": 135
    },
    "colab_type": "code",
    "id": "GAvMgnq8S2Ud",
    "outputId": "a4c65339-6371-4c45-f50f-f99dbfcbf340"
   },
   "outputs": [
    {
     "data": {
      "text/html": [
       "<div>\n",
       "<style scoped>\n",
       "    .dataframe tbody tr th:only-of-type {\n",
       "        vertical-align: middle;\n",
       "    }\n",
       "\n",
       "    .dataframe tbody tr th {\n",
       "        vertical-align: top;\n",
       "    }\n",
       "\n",
       "    .dataframe thead th {\n",
       "        text-align: right;\n",
       "    }\n",
       "</style>\n",
       "<table border=\"1\" class=\"dataframe\">\n",
       "  <thead>\n",
       "    <tr style=\"text-align: right;\">\n",
       "      <th></th>\n",
       "      <th>source</th>\n",
       "      <th>source_units</th>\n",
       "      <th>intensity_units</th>\n",
       "      <th>measurement_units</th>\n",
       "      <th>slope</th>\n",
       "      <th>intercept</th>\n",
       "      <th>r_squared</th>\n",
       "      <th>Number of Samples</th>\n",
       "      <th>Min. Concentration</th>\n",
       "      <th>Max. Concentration</th>\n",
       "    </tr>\n",
       "  </thead>\n",
       "  <tbody>\n",
       "    <tr>\n",
       "      <th>0</th>\n",
       "      <td>cigarette</td>\n",
       "      <td>ug/ml</td>\n",
       "      <td>Intensity, RU</td>\n",
       "      <td>Integrated Intensity, RU</td>\n",
       "      <td>2533.174674</td>\n",
       "      <td>-620.587879</td>\n",
       "      <td>0.929983</td>\n",
       "      <td>26.0</td>\n",
       "      <td>0.2</td>\n",
       "      <td>5.0</td>\n",
       "    </tr>\n",
       "    <tr>\n",
       "      <th>1</th>\n",
       "      <td>diesel</td>\n",
       "      <td>ug/ml</td>\n",
       "      <td>Intensity, RU</td>\n",
       "      <td>Integrated Intensity, RU</td>\n",
       "      <td>195.502414</td>\n",
       "      <td>-200.917295</td>\n",
       "      <td>0.684411</td>\n",
       "      <td>29.0</td>\n",
       "      <td>0.2</td>\n",
       "      <td>10.0</td>\n",
       "    </tr>\n",
       "    <tr>\n",
       "      <th>2</th>\n",
       "      <td>wood_smoke</td>\n",
       "      <td>ug/ml</td>\n",
       "      <td>Intensity, RU</td>\n",
       "      <td>Integrated Intensity, RU</td>\n",
       "      <td>4863.773278</td>\n",
       "      <td>-1584.949118</td>\n",
       "      <td>0.460458</td>\n",
       "      <td>26.0</td>\n",
       "      <td>0.2</td>\n",
       "      <td>5.0</td>\n",
       "    </tr>\n",
       "  </tbody>\n",
       "</table>\n",
       "</div>"
      ],
      "text/plain": [
       "       source source_units intensity_units         measurement_units  \\\n",
       "0   cigarette        ug/ml   Intensity, RU  Integrated Intensity, RU   \n",
       "1      diesel        ug/ml   Intensity, RU  Integrated Intensity, RU   \n",
       "2  wood_smoke        ug/ml   Intensity, RU  Integrated Intensity, RU   \n",
       "\n",
       "         slope    intercept  r_squared  Number of Samples  Min. Concentration  \\\n",
       "0  2533.174674  -620.587879   0.929983               26.0                 0.2   \n",
       "1   195.502414  -200.917295   0.684411               29.0                 0.2   \n",
       "2  4863.773278 -1584.949118   0.460458               26.0                 0.2   \n",
       "\n",
       "   Max. Concentration  \n",
       "0                 5.0  \n",
       "1                10.0  \n",
       "2                 5.0  "
      ]
     },
     "metadata": {},
     "output_type": "display_data"
    }
   ],
   "source": [
    "cal_summary_df = pyeem.preprocessing.calibration_summary_info(cal_df)\n",
    "display(cal_summary_df)"
   ]
  },
  {
   "cell_type": "markdown",
   "metadata": {
    "colab_type": "text",
    "id": "B5gDrCAgS2Ug"
   },
   "source": [
    "## Plot the calibration curves"
   ]
  },
  {
   "cell_type": "code",
   "execution_count": 14,
   "metadata": {
    "colab": {
     "base_uri": "https://localhost:8080/",
     "height": 1000
    },
    "colab_type": "code",
    "id": "jd3F7jBAS2Uh",
    "outputId": "0bb71ee3-e7c9-4fbe-e014-67500d2fb7c0",
    "scrolled": false
   },
   "outputs": [
    {
     "data": {
      "image/png": "[encoded data removed]",
      "text/plain": [
       "<Figure size 1152x288 with 3 Axes>"
      ]
     },
     "metadata": {
      "needs_background": "light"
     },
     "output_type": "display_data"
    }
   ],
   "source": [
    "axes = pyeem.plots.calibration_curves_plot(dataset, cal_df)\n",
    "plt.show()"
   ]
  },
  {
   "cell_type": "markdown",
   "metadata": {
    "colab_type": "text",
    "id": "DmbnqwEZS2Uk"
   },
   "source": [
    "## Create prototypical spectra and then plot them"
   ]
  },
  {
   "cell_type": "code",
   "execution_count": null,
   "metadata": {
    "colab": {
     "base_uri": "https://localhost:8080/",
     "height": 1000
    },
    "colab_type": "code",
    "id": "s1pE70aDS2Ul",
    "outputId": "54824505-f578-4ac0-f1fb-b14ba95e94da",
    "scrolled": false
   },
   "outputs": [],
   "source": [
    "proto_results_df = pyeem.augmentation.create_prototypical_spectra(\n",
    "    dataset,\n",
    "    cal_df\n",
    ")\n",
    "display(proto_results_df)\n",
    "\n",
    "axes = pyeem.plots.prototypical_spectra_plot(\n",
    "    dataset,\n",
    "    proto_results_df,\n",
    "    plot_type=\"contour\"\n",
    ")\n",
    "plt.show()"
   ]
  },
  {
   "cell_type": "markdown",
   "metadata": {
    "colab_type": "text",
    "id": "CiFDdFlLS2Uo"
   },
   "source": [
    "## Augmented Spectra - Single Sources\n",
    "### Create augmented single source spectra by scaling each prototypical spectrum across a range of concentrations"
   ]
  },
  {
   "cell_type": "code",
   "execution_count": null,
   "metadata": {
    "colab": {},
    "colab_type": "code",
    "id": "lpQV5l25QDgE"
   },
   "outputs": [],
   "source": [
    "ss_results_df = pyeem.augmentation.create_single_source_spectra(\n",
    "    dataset,\n",
    "    cal_df,\n",
    "    conc_range=(0, 5),\n",
    "    num_spectra=1000\n",
    ")\n",
    "display(ss_results_df)"
   ]
  },
  {
   "cell_type": "markdown",
   "metadata": {
    "colab_type": "text",
    "id": "DaAgMWiGS2Uq"
   },
   "source": [
    "## Plot the augmented single source spectra"
   ]
  },
  {
   "cell_type": "code",
   "execution_count": null,
   "metadata": {
    "colab": {},
    "colab_type": "code",
    "id": "8LpVQzPUS2Uo",
    "scrolled": false
   },
   "outputs": [],
   "source": [
    "from IPython.display import HTML\n",
    "%matplotlib inline\n",
    "\n",
    "source = \"wood_smoke\"\n",
    "anim = pyeem.plots.single_source_animation(\n",
    "    dataset,\n",
    "    ss_results_df.iloc[::100, :],\n",
    "    source=source,\n",
    "    plot_type=\"imshow\",\n",
    "    fig_kws={\"dpi\": 120},\n",
    "    animate_kws={\"interval\": 100, \"blit\": True},\n",
    ")\n",
    "HTML(anim.to_html5_video())"
   ]
  },
  {
   "cell_type": "code",
   "execution_count": null,
   "metadata": {
    "colab": {},
    "colab_type": "code",
    "id": "GgNUy-dZAqXZ",
    "scrolled": false
   },
   "outputs": [],
   "source": [
    "source = \"diesel\"\n",
    "anim = pyeem.plots.single_source_animation(\n",
    "    dataset,\n",
    "    ss_results_df.iloc[::100, :],\n",
    "    source=source,\n",
    "    plot_type=\"imshow\",\n",
    "    fig_kws={\"dpi\": 120},\n",
    "    animate_kws={\"interval\": 100, \"blit\": True},\n",
    ")\n",
    "HTML(anim.to_html5_video())"
   ]
  },
  {
   "cell_type": "code",
   "execution_count": null,
   "metadata": {
    "colab": {},
    "colab_type": "code",
    "id": "MOMizPF3AsIC",
    "scrolled": false
   },
   "outputs": [],
   "source": [
    "source = \"cigarette\"\n",
    "anim = pyeem.plots.single_source_animation(\n",
    "    dataset,\n",
    "    ss_results_df.iloc[::100, :],\n",
    "    source=source,\n",
    "    plot_type=\"imshow\",\n",
    "    fig_kws={\"dpi\": 120},\n",
    "    animate_kws={\"interval\": 100, \"blit\": True},\n",
    ")\n",
    "HTML(anim.to_html5_video())"
   ]
  },
  {
   "cell_type": "markdown",
   "metadata": {
    "colab_type": "text",
    "id": "A_T_gozzS2Ut"
   },
   "source": [
    "## Augmented Spectra - Mixtures\n",
    "### Create augmented mixture spectra by scaling and combining the prototypical spectra across a range of concentrations"
   ]
  },
  {
   "cell_type": "code",
   "execution_count": null,
   "metadata": {
    "colab": {},
    "colab_type": "code",
    "id": "rcDYWe9QS2Uu"
   },
   "outputs": [],
   "source": [
    "mix_results_df = pyeem.augmentation.create_mixture_spectra(\n",
    "    dataset,\n",
    "    cal_df,\n",
    "    conc_range=(0.01, 6.3),\n",
    "    num_steps=15\n",
    ")\n",
    "display(mix_results_df)"
   ]
  },
  {
   "cell_type": "markdown",
   "metadata": {
    "colab_type": "text",
    "id": "JCrMNmGVS2Uw"
   },
   "source": [
    "## Plot the augmented mixture spectra"
   ]
  },
  {
   "cell_type": "code",
   "execution_count": null,
   "metadata": {
    "colab": {},
    "colab_type": "code",
    "id": "Rk15ydy7S2Uw",
    "scrolled": false
   },
   "outputs": [],
   "source": [
    "anim = pyeem.plots.mixture_animation(\n",
    "    dataset,\n",
    "    mix_results_df.iloc[::100, :],\n",
    "    plot_type=\"contour\",\n",
    "    fig_kws={\"dpi\": 100},\n",
    "    animate_kws={\"interval\": 100, \"blit\": True},\n",
    ")\n",
    "HTML(anim.to_html5_video())"
   ]
  },
  {
   "cell_type": "code",
   "execution_count": null,
   "metadata": {
    "scrolled": false
   },
   "outputs": [],
   "source": [
    "rutherfordnet = pyeem.analysis.models.RutherfordNet()\n",
    "rutherfordnet.model.summary()"
   ]
  },
  {
   "cell_type": "code",
   "execution_count": null,
   "metadata": {},
   "outputs": [],
   "source": [
    "(x_train, y_train), (x_test, y_test) = rutherfordnet.prepare_data(\n",
    "    dataset,\n",
    "    ss_results_df,\n",
    "    mix_results_df,\n",
    "    routine_results_df\n",
    ")"
   ]
  },
  {
   "cell_type": "code",
   "execution_count": null,
   "metadata": {},
   "outputs": [],
   "source": [
    "history = rutherfordnet.train(\n",
    "    x_train,\n",
    "    y_train\n",
    ")"
   ]
  },
  {
   "cell_type": "code",
   "execution_count": null,
   "metadata": {},
   "outputs": [],
   "source": [
    "axes = pyeem.plots.model_history_plot(history)\n",
    "plt.show()"
   ]
  },
  {
   "cell_type": "code",
   "execution_count": null,
   "metadata": {},
   "outputs": [],
   "source": [
    "train_predictions = rutherfordnet.model.predict(x_train)\n",
    "test_predictions = rutherfordnet.model.predict(x_test)\n",
    "\n",
    "train_pred_results_df = rutherfordnet.get_prediction_results(\n",
    "    dataset,\n",
    "    train_predictions,\n",
    "    y_train\n",
    ")\n",
    "\n",
    "test_pred_results_df = rutherfordnet.get_prediction_results(\n",
    "    dataset,\n",
    "    test_predictions,\n",
    "    y_test\n",
    ")\n",
    "\n",
    "axes = pyeem.plots.prediction_parity_plot(\n",
    "    dataset,\n",
    "    test_pred_results_df,\n",
    "    train_df=train_pred_results_df\n",
    ")\n",
    "plt.show()"
   ]
  },
  {
   "cell_type": "code",
   "execution_count": null,
   "metadata": {},
   "outputs": [],
   "source": []
  }
 ],
 "metadata": {
  "colab": {
   "collapsed_sections": [],
   "name": "pyeem_tutorial.ipynb",
   "provenance": []
  },
  "kernelspec": {
   "display_name": "Python 3.6.11 64-bit ('venv': virtualenv)",
   "language": "python",
   "name": "python361164bitvenvvirtualenvc7abc169b88646a3862ff08fd71527e5"
  },
  "language_info": {
   "codemirror_mode": {
    "name": "ipython",
    "version": 3
   },
   "file_extension": ".py",
   "mimetype": "text/x-python",
   "name": "python",
   "nbconvert_exporter": "python",
   "pygments_lexer": "ipython3",
   "version": "3.6.11"
  },
  "toc": {
   "base_numbering": 1,
   "nav_menu": {},
   "number_sections": false,
   "sideBar": true,
   "skip_h1_title": false,
   "title_cell": "Table of Contents",
   "title_sidebar": "Contents",
   "toc_cell": false,
   "toc_position": {
    "height": "calc(100% - 180px)",
    "left": "10px",
    "top": "150px",
    "width": "165px"
   },
   "toc_section_display": true,
   "toc_window_display": true
  }
 },
 "nbformat": 4,
 "nbformat_minor": 1
}
