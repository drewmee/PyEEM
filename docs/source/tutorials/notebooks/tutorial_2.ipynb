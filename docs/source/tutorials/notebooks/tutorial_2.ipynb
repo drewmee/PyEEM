{
 "cells": [
  {
   "cell_type": "markdown",
   "metadata": {
    "colab_type": "text",
    "id": "fAJ_U-lLS2To"
   },
   "source": [
    "# Tutorial #2 - Preprocessing options"
   ]
  },
  {
   "cell_type": "markdown",
   "metadata": {},
   "source": [
    "## Load the PyEEM library and display version"
   ]
  },
  {
   "cell_type": "code",
   "execution_count": null,
   "metadata": {
    "colab": {
     "base_uri": "https://localhost:8080/",
     "height": 459
    },
    "colab_type": "code",
    "id": "gjJn1P8YS2Tp",
    "outputId": "b342b658-b016-4469-9d0c-f9f5ba58fd96"
   },
   "outputs": [],
   "source": [
    "import pyeem\n",
    "print(pyeem.__version__)"
   ]
  },
  {
   "cell_type": "markdown",
   "metadata": {
    "colab_type": "text",
    "id": "w6HSqNbPS2Tt"
   },
   "source": [
    "## Check out the supported instruments"
   ]
  },
  {
   "cell_type": "code",
   "execution_count": null,
   "metadata": {
    "colab": {
     "base_uri": "https://localhost:8080/",
     "height": 164
    },
    "colab_type": "code",
    "id": "r5ou9yMDS2Tu",
    "outputId": "034e1262-cb53-4341-f628-d9584b66a552"
   },
   "outputs": [],
   "source": [
    "pyeem.instruments.supported"
   ]
  },
  {
   "cell_type": "markdown",
   "metadata": {
    "colab_type": "text",
    "id": "uZp-5b_2S2Ty"
   },
   "source": [
    "## Check out the demo datasets"
   ]
  },
  {
   "cell_type": "code",
   "execution_count": null,
   "metadata": {
    "colab": {
     "base_uri": "https://localhost:8080/",
     "height": 140
    },
    "colab_type": "code",
    "id": "1y2ly4E6S2Tz",
    "outputId": "ce2c4275-81bd-4370-93e3-49bff5b15287"
   },
   "outputs": [],
   "source": [
    "demos_df = pyeem.datasets.demos\n",
    "display(demos_df)\n",
    "\n",
    "print(\"Dataset description for the drEEM demo:\")\n",
    "print(demos_df[\n",
    "    demos_df[\"demo_name\"] == \"drEEM\"\n",
    "][\"description\"].item())"
   ]
  },
  {
   "cell_type": "markdown",
   "metadata": {
    "colab_type": "text",
    "id": "S4kiNtSoS2T2"
   },
   "source": [
    "## Download the drEEM demo dataset from S3\n",
    "- Please note that this step requires an internet connection because the data is downloaded from an AWS S3 bucket."
   ]
  },
  {
   "cell_type": "code",
   "execution_count": null,
   "metadata": {
    "colab": {},
    "colab_type": "code",
    "id": "BdZGU36oS2T3"
   },
   "outputs": [],
   "source": [
    "demo_data_dir = pyeem.datasets.download_demo(\n",
    "    \"demo_data\",\n",
    "    demo_name=\"drEEM\"\n",
    ")"
   ]
  },
  {
   "cell_type": "markdown",
   "metadata": {
    "colab_type": "text",
    "id": "vwYgea99S2T6"
   },
   "source": [
    "## Load the dataset"
   ]
  },
  {
   "cell_type": "code",
   "execution_count": null,
   "metadata": {
    "colab": {
     "base_uri": "https://localhost:8080/",
     "height": 321
    },
    "colab_type": "code",
    "id": "WNsaELQ6S2T7",
    "outputId": "32584dc4-c8ad-4ea9-856a-19b053f1e0d8",
    "scrolled": false
   },
   "outputs": [],
   "source": [
    "demo_data_dir = \"demo_data/drEEM\"\n",
    "\n",
    "dataset = pyeem.datasets.Dataset(\n",
    "    data_dir=demo_data_dir,\n",
    "    raman_instrument=\"fluorolog\",\n",
    "    absorbance_instrument=\"cary_4e\",\n",
    "    eem_instrument=\"fluorolog\",\n",
    "    mode=\"w\"\n",
    ")"
   ]
  },
  {
   "cell_type": "markdown",
   "metadata": {
    "colab_type": "text",
    "id": "Vw0_c0RQS2T-"
   },
   "source": [
    "## Let's checkout the metadata\n",
    "- The metadata contains information about collected sample sets which are composed of a few different scan types."
   ]
  },
  {
   "cell_type": "code",
   "execution_count": null,
   "metadata": {
    "colab": {
     "base_uri": "https://localhost:8080/",
     "height": 750
    },
    "colab_type": "code",
    "id": "gCWKhBt2S2T_",
    "outputId": "817b646e-eb49-4636-fd0a-2f1f82ab624b"
   },
   "outputs": [],
   "source": [
    "display(dataset.meta_df)"
   ]
  },
  {
   "cell_type": "markdown",
   "metadata": {
    "colab_type": "text",
    "id": "bL7TU8HES2UD"
   },
   "source": [
    "## Checkout the metadata summary information"
   ]
  },
  {
   "cell_type": "code",
   "execution_count": null,
   "metadata": {
    "colab": {
     "base_uri": "https://localhost:8080/",
     "height": 76
    },
    "colab_type": "code",
    "id": "gZfQHLUPS2UH",
    "outputId": "0a207a8a-8bc4-409b-a6e6-aba9574f9593"
   },
   "outputs": [],
   "source": [
    "dataset.metadata_summary_info()"
   ]
  },
  {
   "cell_type": "code",
   "execution_count": null,
   "metadata": {
    "scrolled": false
   },
   "outputs": [],
   "source": [
    "from IPython.display import HTML\n",
    "fig_kws = {\"dpi\": 200}\n",
    "anim = pyeem.plots.water_raman_peak_animation(dataset, excitation_wavelength=275, fig_kws=fig_kws)\n",
    "HTML(anim.to_html5_video())"
   ]
  },
  {
   "cell_type": "code",
   "execution_count": null,
   "metadata": {},
   "outputs": [],
   "source": [
    "import matplotlib.pyplot as plt\n",
    "fig_kws={\"dpi\": 95}\n",
    "plot_kws = {\"fmt\": \"o-\"}\n",
    "kwargs = {\"byweekday\": 0}\n",
    "ax = pyeem.plots.water_raman_timeseries(dataset, excitation_wavelength=275, fig_kws=fig_kws, plot_kws=plot_kws, **kwargs)\n",
    "plt.show()"
   ]
  },
  {
   "cell_type": "markdown",
   "metadata": {
    "colab_type": "text",
    "id": "P7RFgQ6nS2UK"
   },
   "source": [
    "## Create a preprocessing routine\n",
    "- The demo dataset contains raw scans, in order to analyze and interpret this data, we must first apply several preprocessing steps."
   ]
  },
  {
   "cell_type": "code",
   "execution_count": null,
   "metadata": {
    "colab": {
     "base_uri": "https://localhost:8080/",
     "height": 252
    },
    "colab_type": "code",
    "id": "066qt5LqS2UK",
    "outputId": "36aed09b-c3ed-4c9a-c845-48712e77b989"
   },
   "outputs": [],
   "source": [
    "routine_df = pyeem.preprocessing.create_routine(\n",
    "    crop = False,\n",
    "    discrete_wavelengths = False,\n",
    "    gaussian_smoothing = False,\n",
    "    blank_subtraction = True,\n",
    "    inner_filter_effect = True,\n",
    "    raman_normalization = True,\n",
    "    scatter_removal = True,\n",
    "    dilution = False,\n",
    ")\n",
    "\n",
    "display(routine_df)"
   ]
  },
  {
   "cell_type": "markdown",
   "metadata": {
    "colab_type": "text",
    "id": "oR3SnGzzS2UN"
   },
   "source": [
    "## Execute the preprocessing routine\n",
    "- Each preprocessing step has certain knobs and dials you can tune to have them run to your liking. It is worth checking the documentation to learn more about these customizations.\n",
    "- Please note that depending on the steps and settings you've chosen as well as your dataset's size, the time it takes for this step to complete will vary."
   ]
  },
  {
   "cell_type": "code",
   "execution_count": null,
   "metadata": {
    "colab": {
     "base_uri": "https://localhost:8080/",
     "height": 428
    },
    "colab_type": "code",
    "id": "PsirtEcdS2UO",
    "outputId": "336fa47b-d253-4337-97d7-cc8b3d4b87de",
    "scrolled": false
   },
   "outputs": [],
   "source": [
    "kwargs = {\n",
    "    \"raman_source_type\": \"water_raman\",\n",
    "    \"water_raman_wavelength\": 275,\n",
    "    \"excision_width\": 30,\n",
    "    \"fill\": \"interp\",\n",
    "}\n",
    "\n",
    "\n",
    "routine_results_df = pyeem.preprocessing.perform_routine(\n",
    "    dataset,\n",
    "    routine_df,\n",
    "    progress_bar=True,\n",
    "    **kwargs\n",
    ")\n",
    "\n",
    "display(routine_results_df)"
   ]
  },
  {
   "cell_type": "markdown",
   "metadata": {
    "colab_type": "text",
    "id": "IC-Wu8PGS2UR"
   },
   "source": [
    "## Check to see if any of the steps failed to complete\n",
    "- If you are using a demo dataset, you should see an empty dataframe."
   ]
  },
  {
   "cell_type": "code",
   "execution_count": null,
   "metadata": {
    "colab": {
     "base_uri": "https://localhost:8080/",
     "height": 76
    },
    "colab_type": "code",
    "id": "9xX0wSfwS2UR",
    "outputId": "07a6a289-ec77-432d-b12a-41cf65f8f4d1",
    "scrolled": false
   },
   "outputs": [],
   "source": [
    "display(routine_results_df[\n",
    "    routine_results_df[\"step_exception\"].notna()\n",
    "])"
   ]
  },
  {
   "cell_type": "markdown",
   "metadata": {
    "colab_type": "text",
    "id": "IUCS5hslS2UV"
   },
   "source": [
    "## Visualize the preprocessing steps for a single sample"
   ]
  },
  {
   "cell_type": "code",
   "execution_count": null,
   "metadata": {
    "colab": {
     "base_uri": "https://localhost:8080/",
     "height": 1000
    },
    "colab_type": "code",
    "id": "N1wkgeXhS2UW",
    "outputId": "eddfa1b1-6878-4c7a-f65e-c1b4ce54c63a",
    "scrolled": false
   },
   "outputs": [],
   "source": [
    "import matplotlib.pyplot as plt\n",
    "\n",
    "sample_set = 16\n",
    "sample_name = \"sample_eem1\"\n",
    "axes = pyeem.plots.preprocessing_routine_plot(\n",
    "    dataset,\n",
    "    routine_results_df,\n",
    "    sample_set=sample_set,\n",
    "    sample_name=sample_name,\n",
    "    plot_type=\"contour\",\n",
    "    fig_kws={\"dpi\": 200},\n",
    ")\n",
    "plt.show()"
   ]
  },
  {
   "cell_type": "code",
   "execution_count": null,
   "metadata": {},
   "outputs": [],
   "source": [
    "routine_df = pyeem.preprocessing.create_routine(\n",
    "    crop = False,\n",
    "    discrete_wavelengths = False,\n",
    "    gaussian_smoothing = False,\n",
    "    blank_subtraction = True,\n",
    "    inner_filter_effect = False,\n",
    "    raman_normalization = False,\n",
    "    scatter_removal = True,\n",
    "    dilution = False,\n",
    ")\n",
    "\n",
    "display(routine_df)"
   ]
  },
  {
   "cell_type": "code",
   "execution_count": null,
   "metadata": {},
   "outputs": [],
   "source": [
    "routine_results_df = pyeem.preprocessing.perform_routine(\n",
    "    dataset,\n",
    "    routine_df,\n",
    "    fill = None,\n",
    "    excision_width = 25,\n",
    "    progress_bar=True\n",
    ")\n",
    "\n",
    "axes = pyeem.plots.preprocessing_routine_plot(\n",
    "    dataset,\n",
    "    routine_results_df,\n",
    "    sample_set=sample_set,\n",
    "    sample_name=sample_name,\n",
    "    plot_type=\"contour\",\n",
    "    fig_kws={\"dpi\": 200},\n",
    ")\n",
    "plt.show()"
   ]
  },
  {
   "cell_type": "code",
   "execution_count": null,
   "metadata": {},
   "outputs": [],
   "source": [
    "routine_results_df = pyeem.preprocessing.perform_routine(\n",
    "    dataset,\n",
    "    routine_df,\n",
    "    raman_source_type = \"water_raman\",\n",
    "    fill = None,\n",
    "    truncate = \"both\",\n",
    "    progress_bar=True\n",
    ")\n",
    "\n",
    "axes = pyeem.plots.preprocessing_routine_plot(\n",
    "    dataset,\n",
    "    routine_results_df,\n",
    "    sample_set=sample_set,\n",
    "    sample_name=sample_name,\n",
    "    plot_type=\"contour\",\n",
    "    fig_kws={\"dpi\": 200},\n",
    ")\n",
    "plt.show()"
   ]
  },
  {
   "cell_type": "code",
   "execution_count": null,
   "metadata": {},
   "outputs": [],
   "source": [
    "routine_results_df = pyeem.preprocessing.perform_routine(\n",
    "    dataset,\n",
    "    routine_df,\n",
    "    raman_source_type = \"water_raman\",\n",
    "    fill = None,\n",
    "    band=\"rayleigh\",\n",
    "    order=\"first\",\n",
    "    excision_width=20,\n",
    "    progress_bar=True\n",
    ")\n",
    "\n",
    "axes = pyeem.plots.preprocessing_routine_plot(\n",
    "    dataset,\n",
    "    routine_results_df,\n",
    "    sample_set=sample_set,\n",
    "    sample_name=sample_name,\n",
    "    plot_type=\"contour\",\n",
    "    fig_kws={\"dpi\": 200},\n",
    ")\n",
    "plt.show()"
   ]
  },
  {
   "cell_type": "code",
   "execution_count": null,
   "metadata": {},
   "outputs": [],
   "source": [
    "routine_results_df = pyeem.preprocessing.perform_routine(\n",
    "    dataset,\n",
    "    routine_df,\n",
    "    raman_source_type = \"water_raman\",\n",
    "    fill = \"interp\",\n",
    "    band=\"both\",\n",
    "    excision_width = 25,\n",
    "    progress_bar=True\n",
    ")\n",
    "\n",
    "axes = pyeem.plots.preprocessing_routine_plot(\n",
    "    dataset,\n",
    "    routine_results_df,\n",
    "    sample_set=sample_set,\n",
    "    sample_name=sample_name,\n",
    "    plot_type=\"imshow\",\n",
    ")\n",
    "plt.show()"
   ]
  },
  {
   "cell_type": "code",
   "execution_count": null,
   "metadata": {},
   "outputs": [],
   "source": [
    "routine_results_df = pyeem.preprocessing.perform_routine(\n",
    "    dataset,\n",
    "    routine_df,\n",
    "    raman_source_type = \"water_raman\",\n",
    "    fill = None,\n",
    "    band=\"rayleigh\",\n",
    "    order=\"first\",\n",
    "    truncate=\"below\",\n",
    "    excision_width = 25,\n",
    "    progress_bar=True\n",
    ")\n",
    "\n",
    "axes = pyeem.plots.preprocessing_routine_plot(\n",
    "    dataset,\n",
    "    routine_results_df,\n",
    "    sample_set=sample_set,\n",
    "    sample_name=sample_name,\n",
    "    plot_type=\"imshow\",\n",
    ")\n",
    "plt.show()"
   ]
  },
  {
   "cell_type": "code",
   "execution_count": null,
   "metadata": {},
   "outputs": [],
   "source": []
  }
 ],
 "metadata": {
  "colab": {
   "collapsed_sections": [],
   "name": "pyeem_tutorial.ipynb",
   "provenance": []
  },
  "kernelspec": {
   "display_name": "Python 3.6.11 64-bit ('venv': virtualenv)",
   "language": "python",
   "name": "python361164bitvenvvirtualenvc7abc169b88646a3862ff08fd71527e5"
  },
  "language_info": {
   "codemirror_mode": {
    "name": "ipython",
    "version": 3
   },
   "file_extension": ".py",
   "mimetype": "text/x-python",
   "name": "python",
   "nbconvert_exporter": "python",
   "pygments_lexer": "ipython3",
   "version": "3.6.11"
  },
  "toc": {
   "base_numbering": 1,
   "nav_menu": {},
   "number_sections": false,
   "sideBar": true,
   "skip_h1_title": false,
   "title_cell": "Table of Contents",
   "title_sidebar": "Contents",
   "toc_cell": false,
   "toc_position": {},
   "toc_section_display": true,
   "toc_window_display": true
  }
 },
 "nbformat": 4,
 "nbformat_minor": 1
}
