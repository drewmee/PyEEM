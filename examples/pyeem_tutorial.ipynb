{
 "cells": [
  {
   "cell_type": "markdown",
   "metadata": {
    "colab_type": "text",
    "id": "fAJ_U-lLS2To"
   },
   "source": [
    "# PyEEM - Fluorescence Excitation-Emission Matrix (EEM) Spectroscopy\n",
    "# *User Tutorial*\n",
    "## Load the PyEEM library and display version"
   ]
  },
  {
   "cell_type": "code",
   "execution_count": null,
   "metadata": {
    "colab": {
     "base_uri": "https://localhost:8080/",
     "height": 459
    },
    "colab_type": "code",
    "id": "gjJn1P8YS2Tp",
    "outputId": "b342b658-b016-4469-9d0c-f9f5ba58fd96"
   },
   "outputs": [],
   "source": [
    "import pyeem\n",
    "print(pyeem.__version__)"
   ]
  },
  {
   "cell_type": "markdown",
   "metadata": {
    "colab_type": "text",
    "id": "w6HSqNbPS2Tt"
   },
   "source": [
    "## Check out the supported instruments"
   ]
  },
  {
   "cell_type": "code",
   "execution_count": null,
   "metadata": {
    "colab": {
     "base_uri": "https://localhost:8080/",
     "height": 164
    },
    "colab_type": "code",
    "id": "r5ou9yMDS2Tu",
    "outputId": "034e1262-cb53-4341-f628-d9584b66a552"
   },
   "outputs": [],
   "source": [
    "pyeem.instruments.supported"
   ]
  },
  {
   "cell_type": "markdown",
   "metadata": {
    "colab_type": "text",
    "id": "uZp-5b_2S2Ty"
   },
   "source": [
    "## Check out the demo datasets"
   ]
  },
  {
   "cell_type": "code",
   "execution_count": null,
   "metadata": {
    "colab": {
     "base_uri": "https://localhost:8080/",
     "height": 140
    },
    "colab_type": "code",
    "id": "1y2ly4E6S2Tz",
    "outputId": "ce2c4275-81bd-4370-93e3-49bff5b15287"
   },
   "outputs": [],
   "source": [
    "demos_df = pyeem.datasets.demos\n",
    "display(demos_df)\n",
    "demos_df[demos_df[\"demo_name\"] == \"rutherford\"][\"description\"].item()"
   ]
  },
  {
   "cell_type": "markdown",
   "metadata": {
    "colab_type": "text",
    "id": "S4kiNtSoS2T2"
   },
   "source": [
    "## Download the Rutherford et al. demo dataset from S3\n",
    "- Please note that this step requires an internet connection because the data is downloaded from an AWS S3 bucket."
   ]
  },
  {
   "cell_type": "code",
   "execution_count": null,
   "metadata": {
    "colab": {},
    "colab_type": "code",
    "id": "BdZGU36oS2T3"
   },
   "outputs": [],
   "source": [
    "demo_data_dir = pyeem.datasets.download_demo(\n",
    "    \"demo_data\", demo_name=\"rutherford\"\n",
    ")"
   ]
  },
  {
   "cell_type": "markdown",
   "metadata": {
    "colab_type": "text",
    "id": "vwYgea99S2T6"
   },
   "source": [
    "## Load the dataset"
   ]
  },
  {
   "cell_type": "code",
   "execution_count": null,
   "metadata": {
    "colab": {
     "base_uri": "https://localhost:8080/",
     "height": 321
    },
    "colab_type": "code",
    "id": "WNsaELQ6S2T7",
    "outputId": "32584dc4-c8ad-4ea9-856a-19b053f1e0d8",
    "scrolled": false
   },
   "outputs": [],
   "source": [
    "\"\"\"\n",
    "demo_data_dir = \"demo_data/qinmin\"\n",
    "dataset = pyeem.datasets.Load(\n",
    "    data_dir=demo_data_dir,\n",
    "    raman_instrument=None,\n",
    "    absorbance_instrument=\"cary_4e\",\n",
    "    eem_instrument=\"cary_eclipse\",\n",
    "    mode=\"w\"\n",
    ")\n",
    "display(dataset.meta_df)\n",
    "\"\"\"\n",
    "\n",
    "\"\"\"\n",
    "demo_data_dir = \"demo_data/drEEM\"\n",
    "dataset = pyeem.datasets.Load(\n",
    "    data_dir=demo_data_dir,\n",
    "    raman_instrument=\"fluorolog\",\n",
    "    absorbance_instrument=\"cary_4e\",\n",
    "    eem_instrument=\"fluorolog\",\n",
    "    mode=\"w\"\n",
    ")\n",
    "display(dataset.meta_df)\n",
    "\"\"\"\n",
    "\n",
    "demo_data_dir = \"demo_data/rutherford\"\n",
    "cal_sources = {\"cigarette\": \"ug/ml\", \"diesel\": \"ug/ml\", \"wood_smoke\": \"ug/ml\"}\n",
    "dataset = pyeem.datasets.Load(\n",
    "    data_dir=demo_data_dir,\n",
    "    raman_instrument=None,\n",
    "    absorbance_instrument=\"aqualog\",\n",
    "    eem_instrument=\"aqualog\",\n",
    "    calibration_sources=cal_sources,\n",
    "    mode=\"w\"\n",
    ")"
   ]
  },
  {
   "cell_type": "markdown",
   "metadata": {
    "colab_type": "text",
    "id": "Vw0_c0RQS2T-"
   },
   "source": [
    "## Let's checkout the metadata\n",
    "- The metadata contains information about collected sample sets which are composed of a few different scan types. Allowable scan types include:\n",
    "    - blank_eem \n",
    "    - water_raman \n",
    "    - sample_eem \n",
    "    - absorb"
   ]
  },
  {
   "cell_type": "code",
   "execution_count": 6,
   "metadata": {
    "colab": {
     "base_uri": "https://localhost:8080/",
     "height": 750
    },
    "colab_type": "code",
    "id": "gCWKhBt2S2T_",
    "outputId": "817b646e-eb49-4636-fd0a-2f1f82ab624b"
   },
   "outputs": [
    {
     "data": {
      "text/html": [
       "<div>\n",
       "<style scoped>\n",
       "    .dataframe tbody tr th:only-of-type {\n",
       "        vertical-align: middle;\n",
       "    }\n",
       "\n",
       "    .dataframe tbody tr th {\n",
       "        vertical-align: top;\n",
       "    }\n",
       "\n",
       "    .dataframe thead th {\n",
       "        text-align: right;\n",
       "    }\n",
       "</style>\n",
       "<table border=\"1\" class=\"dataframe\">\n",
       "  <thead>\n",
       "    <tr style=\"text-align: right;\">\n",
       "      <th></th>\n",
       "      <th></th>\n",
       "      <th>datetime_utc</th>\n",
       "      <th>filename</th>\n",
       "      <th>collected_by</th>\n",
       "      <th>description</th>\n",
       "      <th>comments</th>\n",
       "      <th>dilution</th>\n",
       "      <th>Raman_Area</th>\n",
       "      <th>cigarette</th>\n",
       "      <th>diesel</th>\n",
       "      <th>wood_smoke</th>\n",
       "      <th>calibration_sample</th>\n",
       "      <th>prototypical_sample</th>\n",
       "      <th>test_sample</th>\n",
       "      <th>original_date</th>\n",
       "      <th>filepath</th>\n",
       "      <th>name</th>\n",
       "      <th>prototypical_source</th>\n",
       "      <th>test_sources</th>\n",
       "      <th>hdf_path</th>\n",
       "    </tr>\n",
       "    <tr>\n",
       "      <th>sample_set</th>\n",
       "      <th>scan_type</th>\n",
       "      <th></th>\n",
       "      <th></th>\n",
       "      <th></th>\n",
       "      <th></th>\n",
       "      <th></th>\n",
       "      <th></th>\n",
       "      <th></th>\n",
       "      <th></th>\n",
       "      <th></th>\n",
       "      <th></th>\n",
       "      <th></th>\n",
       "      <th></th>\n",
       "      <th></th>\n",
       "      <th></th>\n",
       "      <th></th>\n",
       "      <th></th>\n",
       "      <th></th>\n",
       "      <th></th>\n",
       "      <th></th>\n",
       "    </tr>\n",
       "  </thead>\n",
       "  <tbody>\n",
       "    <tr>\n",
       "      <th rowspan=\"5\" valign=\"top\">1</th>\n",
       "      <th>blank_eem</th>\n",
       "      <td>2020-07-01 10:29:05</td>\n",
       "      <td>blank_eem1.csv</td>\n",
       "      <td>JR</td>\n",
       "      <td>Spectroscopy Grade Blank</td>\n",
       "      <td>Raman units collected with 1 pixel binning so ...</td>\n",
       "      <td>1.0</td>\n",
       "      <td>2040.3794</td>\n",
       "      <td>0.00</td>\n",
       "      <td>0.0</td>\n",
       "      <td>0.0</td>\n",
       "      <td>False</td>\n",
       "      <td>False</td>\n",
       "      <td>False</td>\n",
       "      <td>2016-11-30</td>\n",
       "      <td>/home/roboat/Documents/roboat/PyEEM/examples/d...</td>\n",
       "      <td>blank_eem1</td>\n",
       "      <td></td>\n",
       "      <td>[]</td>\n",
       "      <td>raw_sample_sets/1/blank_eem1</td>\n",
       "    </tr>\n",
       "    <tr>\n",
       "      <th>sample_eem</th>\n",
       "      <td>2020-07-01 10:29:06</td>\n",
       "      <td>sample_eem1.csv</td>\n",
       "      <td>JR</td>\n",
       "      <td>Diesel1</td>\n",
       "      <td>Raman units collected with 1 pixel binning so ...</td>\n",
       "      <td>1.0</td>\n",
       "      <td>2040.3794</td>\n",
       "      <td>0.00</td>\n",
       "      <td>5.0</td>\n",
       "      <td>0.0</td>\n",
       "      <td>True</td>\n",
       "      <td>False</td>\n",
       "      <td>True</td>\n",
       "      <td>2016-11-30</td>\n",
       "      <td>/home/roboat/Documents/roboat/PyEEM/examples/d...</td>\n",
       "      <td>sample_eem1</td>\n",
       "      <td>diesel</td>\n",
       "      <td>[]</td>\n",
       "      <td>raw_sample_sets/1/sample_eem1</td>\n",
       "    </tr>\n",
       "    <tr>\n",
       "      <th>sample_eem</th>\n",
       "      <td>2020-07-01 10:29:07</td>\n",
       "      <td>sample_eem2.csv</td>\n",
       "      <td>JR</td>\n",
       "      <td>Diesel2</td>\n",
       "      <td>Raman units collected with 1 pixel binning so ...</td>\n",
       "      <td>1.0</td>\n",
       "      <td>2040.3794</td>\n",
       "      <td>0.00</td>\n",
       "      <td>5.0</td>\n",
       "      <td>0.0</td>\n",
       "      <td>True</td>\n",
       "      <td>True</td>\n",
       "      <td>False</td>\n",
       "      <td>2016-11-30</td>\n",
       "      <td>/home/roboat/Documents/roboat/PyEEM/examples/d...</td>\n",
       "      <td>sample_eem2</td>\n",
       "      <td>diesel</td>\n",
       "      <td>[]</td>\n",
       "      <td>raw_sample_sets/1/sample_eem2</td>\n",
       "    </tr>\n",
       "    <tr>\n",
       "      <th>sample_eem</th>\n",
       "      <td>2020-07-01 10:29:08</td>\n",
       "      <td>sample_eem3.csv</td>\n",
       "      <td>JR</td>\n",
       "      <td>Diesel3</td>\n",
       "      <td>Raman units collected with 1 pixel binning so ...</td>\n",
       "      <td>1.0</td>\n",
       "      <td>2040.3794</td>\n",
       "      <td>0.00</td>\n",
       "      <td>5.0</td>\n",
       "      <td>0.0</td>\n",
       "      <td>True</td>\n",
       "      <td>False</td>\n",
       "      <td>True</td>\n",
       "      <td>2016-11-30</td>\n",
       "      <td>/home/roboat/Documents/roboat/PyEEM/examples/d...</td>\n",
       "      <td>sample_eem3</td>\n",
       "      <td>diesel</td>\n",
       "      <td>[]</td>\n",
       "      <td>raw_sample_sets/1/sample_eem3</td>\n",
       "    </tr>\n",
       "    <tr>\n",
       "      <th>sample_eem</th>\n",
       "      <td>2020-07-01 10:29:09</td>\n",
       "      <td>sample_eem4.csv</td>\n",
       "      <td>JR</td>\n",
       "      <td>Cigarette from Cookstove Lab Hood</td>\n",
       "      <td>Raman units collected with 1 pixel binning so ...</td>\n",
       "      <td>1.0</td>\n",
       "      <td>2040.3794</td>\n",
       "      <td>0.77</td>\n",
       "      <td>0.0</td>\n",
       "      <td>0.0</td>\n",
       "      <td>True</td>\n",
       "      <td>False</td>\n",
       "      <td>True</td>\n",
       "      <td>2016-11-30</td>\n",
       "      <td>/home/roboat/Documents/roboat/PyEEM/examples/d...</td>\n",
       "      <td>sample_eem4</td>\n",
       "      <td>cigarette</td>\n",
       "      <td>[]</td>\n",
       "      <td>raw_sample_sets/1/sample_eem4</td>\n",
       "    </tr>\n",
       "  </tbody>\n",
       "</table>\n",
       "</div>"
      ],
      "text/plain": [
       "                             datetime_utc         filename collected_by  \\\n",
       "sample_set scan_type                                                      \n",
       "1          blank_eem  2020-07-01 10:29:05   blank_eem1.csv           JR   \n",
       "           sample_eem 2020-07-01 10:29:06  sample_eem1.csv           JR   \n",
       "           sample_eem 2020-07-01 10:29:07  sample_eem2.csv           JR   \n",
       "           sample_eem 2020-07-01 10:29:08  sample_eem3.csv           JR   \n",
       "           sample_eem 2020-07-01 10:29:09  sample_eem4.csv           JR   \n",
       "\n",
       "                                             description  \\\n",
       "sample_set scan_type                                       \n",
       "1          blank_eem            Spectroscopy Grade Blank   \n",
       "           sample_eem                            Diesel1   \n",
       "           sample_eem                            Diesel2   \n",
       "           sample_eem                            Diesel3   \n",
       "           sample_eem  Cigarette from Cookstove Lab Hood   \n",
       "\n",
       "                                                                comments  \\\n",
       "sample_set scan_type                                                       \n",
       "1          blank_eem   Raman units collected with 1 pixel binning so ...   \n",
       "           sample_eem  Raman units collected with 1 pixel binning so ...   \n",
       "           sample_eem  Raman units collected with 1 pixel binning so ...   \n",
       "           sample_eem  Raman units collected with 1 pixel binning so ...   \n",
       "           sample_eem  Raman units collected with 1 pixel binning so ...   \n",
       "\n",
       "                       dilution  Raman_Area  cigarette  diesel  wood_smoke  \\\n",
       "sample_set scan_type                                                         \n",
       "1          blank_eem        1.0   2040.3794       0.00     0.0         0.0   \n",
       "           sample_eem       1.0   2040.3794       0.00     5.0         0.0   \n",
       "           sample_eem       1.0   2040.3794       0.00     5.0         0.0   \n",
       "           sample_eem       1.0   2040.3794       0.00     5.0         0.0   \n",
       "           sample_eem       1.0   2040.3794       0.77     0.0         0.0   \n",
       "\n",
       "                       calibration_sample  prototypical_sample  test_sample  \\\n",
       "sample_set scan_type                                                          \n",
       "1          blank_eem                False                False        False   \n",
       "           sample_eem                True                False         True   \n",
       "           sample_eem                True                 True        False   \n",
       "           sample_eem                True                False         True   \n",
       "           sample_eem                True                False         True   \n",
       "\n",
       "                      original_date  \\\n",
       "sample_set scan_type                  \n",
       "1          blank_eem     2016-11-30   \n",
       "           sample_eem    2016-11-30   \n",
       "           sample_eem    2016-11-30   \n",
       "           sample_eem    2016-11-30   \n",
       "           sample_eem    2016-11-30   \n",
       "\n",
       "                                                                filepath  \\\n",
       "sample_set scan_type                                                       \n",
       "1          blank_eem   /home/roboat/Documents/roboat/PyEEM/examples/d...   \n",
       "           sample_eem  /home/roboat/Documents/roboat/PyEEM/examples/d...   \n",
       "           sample_eem  /home/roboat/Documents/roboat/PyEEM/examples/d...   \n",
       "           sample_eem  /home/roboat/Documents/roboat/PyEEM/examples/d...   \n",
       "           sample_eem  /home/roboat/Documents/roboat/PyEEM/examples/d...   \n",
       "\n",
       "                              name prototypical_source test_sources  \\\n",
       "sample_set scan_type                                                  \n",
       "1          blank_eem    blank_eem1                               []   \n",
       "           sample_eem  sample_eem1              diesel           []   \n",
       "           sample_eem  sample_eem2              diesel           []   \n",
       "           sample_eem  sample_eem3              diesel           []   \n",
       "           sample_eem  sample_eem4           cigarette           []   \n",
       "\n",
       "                                            hdf_path  \n",
       "sample_set scan_type                                  \n",
       "1          blank_eem    raw_sample_sets/1/blank_eem1  \n",
       "           sample_eem  raw_sample_sets/1/sample_eem1  \n",
       "           sample_eem  raw_sample_sets/1/sample_eem2  \n",
       "           sample_eem  raw_sample_sets/1/sample_eem3  \n",
       "           sample_eem  raw_sample_sets/1/sample_eem4  "
      ]
     },
     "metadata": {},
     "output_type": "display_data"
    }
   ],
   "source": [
    "display(dataset.meta_df.head())"
   ]
  },
  {
   "cell_type": "markdown",
   "metadata": {
    "colab_type": "text",
    "id": "bL7TU8HES2UD"
   },
   "source": [
    "## Checkout the metadata summary information"
   ]
  },
  {
   "cell_type": "code",
   "execution_count": 7,
   "metadata": {
    "colab": {
     "base_uri": "https://localhost:8080/",
     "height": 76
    },
    "colab_type": "code",
    "id": "gZfQHLUPS2UH",
    "outputId": "0a207a8a-8bc4-409b-a6e6-aba9574f9593"
   },
   "outputs": [
    {
     "data": {
      "text/html": [
       "<div>\n",
       "<style scoped>\n",
       "    .dataframe tbody tr th:only-of-type {\n",
       "        vertical-align: middle;\n",
       "    }\n",
       "\n",
       "    .dataframe tbody tr th {\n",
       "        vertical-align: top;\n",
       "    }\n",
       "\n",
       "    .dataframe thead th {\n",
       "        text-align: right;\n",
       "    }\n",
       "</style>\n",
       "<table border=\"1\" class=\"dataframe\">\n",
       "  <thead>\n",
       "    <tr style=\"text-align: right;\">\n",
       "      <th></th>\n",
       "      <th>Date Range</th>\n",
       "      <th>Number of Sample Sets</th>\n",
       "      <th>Number of blank EEMs</th>\n",
       "      <th>Number of sample EEMs</th>\n",
       "      <th>Number of water raman scans</th>\n",
       "      <th>Number of absorbance scans</th>\n",
       "    </tr>\n",
       "  </thead>\n",
       "  <tbody>\n",
       "    <tr>\n",
       "      <th>0</th>\n",
       "      <td>(Timestamp('2020-07-01 10:29:05'), Timestamp('...</td>\n",
       "      <td>14</td>\n",
       "      <td>20</td>\n",
       "      <td>107</td>\n",
       "      <td>0</td>\n",
       "      <td>107</td>\n",
       "    </tr>\n",
       "  </tbody>\n",
       "</table>\n",
       "</div>"
      ],
      "text/plain": [
       "                                          Date Range Number of Sample Sets  \\\n",
       "0  (Timestamp('2020-07-01 10:29:05'), Timestamp('...                    14   \n",
       "\n",
       "   Number of blank EEMs  Number of sample EEMs  Number of water raman scans  \\\n",
       "0                    20                    107                            0   \n",
       "\n",
       "   Number of absorbance scans  \n",
       "0                         107  "
      ]
     },
     "execution_count": 7,
     "metadata": {},
     "output_type": "execute_result"
    }
   ],
   "source": [
    "dataset.metadata_summary_info()"
   ]
  },
  {
   "cell_type": "markdown",
   "metadata": {
    "colab_type": "text",
    "id": "P7RFgQ6nS2UK"
   },
   "source": [
    "## Create a preprocessing routine\n",
    "- The demo dataset contains raw scans, in order to analyze and interpret this data, we must first apply several preprocessing steps."
   ]
  },
  {
   "cell_type": "code",
   "execution_count": 8,
   "metadata": {
    "colab": {
     "base_uri": "https://localhost:8080/",
     "height": 252
    },
    "colab_type": "code",
    "id": "066qt5LqS2UK",
    "outputId": "36aed09b-c3ed-4c9a-c845-48712e77b989"
   },
   "outputs": [
    {
     "data": {
      "text/html": [
       "<div>\n",
       "<style scoped>\n",
       "    .dataframe tbody tr th:only-of-type {\n",
       "        vertical-align: middle;\n",
       "    }\n",
       "\n",
       "    .dataframe tbody tr th {\n",
       "        vertical-align: top;\n",
       "    }\n",
       "\n",
       "    .dataframe thead th {\n",
       "        text-align: right;\n",
       "    }\n",
       "</style>\n",
       "<table border=\"1\" class=\"dataframe\">\n",
       "  <thead>\n",
       "    <tr style=\"text-align: right;\">\n",
       "      <th></th>\n",
       "      <th>step_name</th>\n",
       "      <th>hdf_path</th>\n",
       "    </tr>\n",
       "    <tr>\n",
       "      <th>step_order</th>\n",
       "      <th></th>\n",
       "      <th></th>\n",
       "    </tr>\n",
       "  </thead>\n",
       "  <tbody>\n",
       "    <tr>\n",
       "      <th>0</th>\n",
       "      <td>raw</td>\n",
       "      <td>raw_sample_sets/</td>\n",
       "    </tr>\n",
       "    <tr>\n",
       "      <th>1</th>\n",
       "      <td>crop</td>\n",
       "      <td>preprocessing/filters/crop</td>\n",
       "    </tr>\n",
       "    <tr>\n",
       "      <th>2</th>\n",
       "      <td>blank_subtraction</td>\n",
       "      <td>preprocessing/corrections/blank_subtraction</td>\n",
       "    </tr>\n",
       "    <tr>\n",
       "      <th>3</th>\n",
       "      <td>inner_filter_effect</td>\n",
       "      <td>preprocessing/corrections/inner_filter_effect</td>\n",
       "    </tr>\n",
       "    <tr>\n",
       "      <th>4</th>\n",
       "      <td>raman_normalization</td>\n",
       "      <td>preprocessing/corrections/raman_normalization</td>\n",
       "    </tr>\n",
       "    <tr>\n",
       "      <th>5</th>\n",
       "      <td>scatter_removal</td>\n",
       "      <td>preprocessing/corrections/scatter_removal</td>\n",
       "    </tr>\n",
       "    <tr>\n",
       "      <th>6</th>\n",
       "      <td>complete</td>\n",
       "      <td>preprocessing/complete/</td>\n",
       "    </tr>\n",
       "  </tbody>\n",
       "</table>\n",
       "</div>"
      ],
      "text/plain": [
       "                      step_name                                       hdf_path\n",
       "step_order                                                                    \n",
       "0                           raw                               raw_sample_sets/\n",
       "1                          crop                     preprocessing/filters/crop\n",
       "2             blank_subtraction    preprocessing/corrections/blank_subtraction\n",
       "3           inner_filter_effect  preprocessing/corrections/inner_filter_effect\n",
       "4           raman_normalization  preprocessing/corrections/raman_normalization\n",
       "5               scatter_removal      preprocessing/corrections/scatter_removal\n",
       "6                      complete                        preprocessing/complete/"
      ]
     },
     "metadata": {},
     "output_type": "display_data"
    }
   ],
   "source": [
    "routine_df = pyeem.preprocessing.create_routine(\n",
    "    crop = True,\n",
    "    discrete_wavelengths = False,\n",
    "    gaussian_smoothing = False,\n",
    "    blank_subtraction = True,\n",
    "    inner_filter_effect = True,\n",
    "    raman_normalization = True,\n",
    "    scatter_removal = True,\n",
    "    dilution = False,\n",
    ")\n",
    "\n",
    "display(routine_df)"
   ]
  },
  {
   "cell_type": "markdown",
   "metadata": {
    "colab_type": "text",
    "id": "oR3SnGzzS2UN"
   },
   "source": [
    "## Execute the preprocessing routine\n",
    "- Each preprocessing step has certain knobs and dials you can tune to have them run to your liking. It is worth checking the documentation to learn more about these customizations.\n",
    "- Please note that depending on the steps and settings you've chosen as well as your dataset's size, the time it takes for this step to complete will vary."
   ]
  },
  {
   "cell_type": "code",
   "execution_count": 9,
   "metadata": {
    "colab": {
     "base_uri": "https://localhost:8080/",
     "height": 428
    },
    "colab_type": "code",
    "id": "PsirtEcdS2UO",
    "outputId": "336fa47b-d253-4337-97d7-cc8b3d4b87de",
    "scrolled": false
   },
   "outputs": [
    {
     "name": "stderr",
     "output_type": "stream",
     "text": [
      "Preprocessing scan sets: 100%|██████████| 14/14 [01:41<00:00,  7.25s/it]\n"
     ]
    },
    {
     "data": {
      "text/html": [
       "<div>\n",
       "<style scoped>\n",
       "    .dataframe tbody tr th:only-of-type {\n",
       "        vertical-align: middle;\n",
       "    }\n",
       "\n",
       "    .dataframe tbody tr th {\n",
       "        vertical-align: top;\n",
       "    }\n",
       "\n",
       "    .dataframe thead th {\n",
       "        text-align: right;\n",
       "    }\n",
       "</style>\n",
       "<table border=\"1\" class=\"dataframe\">\n",
       "  <thead>\n",
       "    <tr style=\"text-align: right;\">\n",
       "      <th></th>\n",
       "      <th></th>\n",
       "      <th></th>\n",
       "      <th></th>\n",
       "      <th>step_completed</th>\n",
       "      <th>step_exception</th>\n",
       "      <th>hdf_path</th>\n",
       "      <th>units</th>\n",
       "    </tr>\n",
       "    <tr>\n",
       "      <th>sample_set</th>\n",
       "      <th>scan_type</th>\n",
       "      <th>name</th>\n",
       "      <th>step_name</th>\n",
       "      <th></th>\n",
       "      <th></th>\n",
       "      <th></th>\n",
       "      <th></th>\n",
       "    </tr>\n",
       "  </thead>\n",
       "  <tbody>\n",
       "    <tr>\n",
       "      <th rowspan=\"5\" valign=\"top\">1</th>\n",
       "      <th rowspan=\"2\" valign=\"top\">blank_eem</th>\n",
       "      <th rowspan=\"2\" valign=\"top\">blank_eem1</th>\n",
       "      <th>raw</th>\n",
       "      <td>True</td>\n",
       "      <td>None</td>\n",
       "      <td>raw_sample_sets/1/blank_eem1</td>\n",
       "      <td>Intensity, AU</td>\n",
       "    </tr>\n",
       "    <tr>\n",
       "      <th>crop</th>\n",
       "      <td>True</td>\n",
       "      <td>None</td>\n",
       "      <td>preprocessing/filters/crop/1/blank_eem1</td>\n",
       "      <td>Intensity, AU</td>\n",
       "    </tr>\n",
       "    <tr>\n",
       "      <th rowspan=\"3\" valign=\"top\">sample_eem</th>\n",
       "      <th rowspan=\"3\" valign=\"top\">sample_eem1</th>\n",
       "      <th>raw</th>\n",
       "      <td>True</td>\n",
       "      <td>None</td>\n",
       "      <td>raw_sample_sets/1/sample_eem1</td>\n",
       "      <td>Intensity, AU</td>\n",
       "    </tr>\n",
       "    <tr>\n",
       "      <th>crop</th>\n",
       "      <td>True</td>\n",
       "      <td>None</td>\n",
       "      <td>preprocessing/filters/crop/1/sample_eem1</td>\n",
       "      <td>Intensity, AU</td>\n",
       "    </tr>\n",
       "    <tr>\n",
       "      <th>blank_subtraction</th>\n",
       "      <td>True</td>\n",
       "      <td>None</td>\n",
       "      <td>preprocessing/corrections/blank_subtraction/1/...</td>\n",
       "      <td>Intensity, AU</td>\n",
       "    </tr>\n",
       "    <tr>\n",
       "      <th>...</th>\n",
       "      <th>...</th>\n",
       "      <th>...</th>\n",
       "      <th>...</th>\n",
       "      <td>...</td>\n",
       "      <td>...</td>\n",
       "      <td>...</td>\n",
       "      <td>...</td>\n",
       "    </tr>\n",
       "    <tr>\n",
       "      <th rowspan=\"3\" valign=\"top\">16</th>\n",
       "      <th rowspan=\"3\" valign=\"top\">sample_eem</th>\n",
       "      <th rowspan=\"3\" valign=\"top\">sample_eem1</th>\n",
       "      <th>raman_normalization</th>\n",
       "      <td>True</td>\n",
       "      <td>None</td>\n",
       "      <td>preprocessing/corrections/raman_normalization/...</td>\n",
       "      <td>Intensity, RU</td>\n",
       "    </tr>\n",
       "    <tr>\n",
       "      <th>scatter_removal</th>\n",
       "      <td>True</td>\n",
       "      <td>None</td>\n",
       "      <td>preprocessing/corrections/scatter_removal/16/s...</td>\n",
       "      <td>Intensity, RU</td>\n",
       "    </tr>\n",
       "    <tr>\n",
       "      <th>complete</th>\n",
       "      <td>True</td>\n",
       "      <td>None</td>\n",
       "      <td>preprocessing/complete/16/sample_eem1</td>\n",
       "      <td>Intensity, RU</td>\n",
       "    </tr>\n",
       "    <tr>\n",
       "      <th rowspan=\"2\" valign=\"top\">17</th>\n",
       "      <th rowspan=\"2\" valign=\"top\">blank_eem</th>\n",
       "      <th rowspan=\"2\" valign=\"top\">blank_eem1</th>\n",
       "      <th>raw</th>\n",
       "      <td>True</td>\n",
       "      <td>None</td>\n",
       "      <td>raw_sample_sets/17/blank_eem1</td>\n",
       "      <td>Intensity, AU</td>\n",
       "    </tr>\n",
       "    <tr>\n",
       "      <th>crop</th>\n",
       "      <td>True</td>\n",
       "      <td>None</td>\n",
       "      <td>preprocessing/filters/crop/17/blank_eem1</td>\n",
       "      <td>Intensity, AU</td>\n",
       "    </tr>\n",
       "  </tbody>\n",
       "</table>\n",
       "<p>777 rows × 4 columns</p>\n",
       "</div>"
      ],
      "text/plain": [
       "                                                      step_completed  \\\n",
       "sample_set scan_type  name        step_name                            \n",
       "1          blank_eem  blank_eem1  raw                           True   \n",
       "                                  crop                          True   \n",
       "           sample_eem sample_eem1 raw                           True   \n",
       "                                  crop                          True   \n",
       "                                  blank_subtraction             True   \n",
       "...                                                              ...   \n",
       "16         sample_eem sample_eem1 raman_normalization           True   \n",
       "                                  scatter_removal               True   \n",
       "                                  complete                      True   \n",
       "17         blank_eem  blank_eem1  raw                           True   \n",
       "                                  crop                          True   \n",
       "\n",
       "                                                      step_exception  \\\n",
       "sample_set scan_type  name        step_name                            \n",
       "1          blank_eem  blank_eem1  raw                           None   \n",
       "                                  crop                          None   \n",
       "           sample_eem sample_eem1 raw                           None   \n",
       "                                  crop                          None   \n",
       "                                  blank_subtraction             None   \n",
       "...                                                              ...   \n",
       "16         sample_eem sample_eem1 raman_normalization           None   \n",
       "                                  scatter_removal               None   \n",
       "                                  complete                      None   \n",
       "17         blank_eem  blank_eem1  raw                           None   \n",
       "                                  crop                          None   \n",
       "\n",
       "                                                                                                hdf_path  \\\n",
       "sample_set scan_type  name        step_name                                                                \n",
       "1          blank_eem  blank_eem1  raw                                       raw_sample_sets/1/blank_eem1   \n",
       "                                  crop                           preprocessing/filters/crop/1/blank_eem1   \n",
       "           sample_eem sample_eem1 raw                                      raw_sample_sets/1/sample_eem1   \n",
       "                                  crop                          preprocessing/filters/crop/1/sample_eem1   \n",
       "                                  blank_subtraction    preprocessing/corrections/blank_subtraction/1/...   \n",
       "...                                                                                                  ...   \n",
       "16         sample_eem sample_eem1 raman_normalization  preprocessing/corrections/raman_normalization/...   \n",
       "                                  scatter_removal      preprocessing/corrections/scatter_removal/16/s...   \n",
       "                                  complete                         preprocessing/complete/16/sample_eem1   \n",
       "17         blank_eem  blank_eem1  raw                                      raw_sample_sets/17/blank_eem1   \n",
       "                                  crop                          preprocessing/filters/crop/17/blank_eem1   \n",
       "\n",
       "                                                               units  \n",
       "sample_set scan_type  name        step_name                           \n",
       "1          blank_eem  blank_eem1  raw                  Intensity, AU  \n",
       "                                  crop                 Intensity, AU  \n",
       "           sample_eem sample_eem1 raw                  Intensity, AU  \n",
       "                                  crop                 Intensity, AU  \n",
       "                                  blank_subtraction    Intensity, AU  \n",
       "...                                                              ...  \n",
       "16         sample_eem sample_eem1 raman_normalization  Intensity, RU  \n",
       "                                  scatter_removal      Intensity, RU  \n",
       "                                  complete             Intensity, RU  \n",
       "17         blank_eem  blank_eem1  raw                  Intensity, AU  \n",
       "                                  crop                 Intensity, AU  \n",
       "\n",
       "[777 rows x 4 columns]"
      ]
     },
     "execution_count": 9,
     "metadata": {},
     "output_type": "execute_result"
    }
   ],
   "source": [
    "crop_dimensions = {\"emission_bounds\": (246, 573), \"excitation_bounds\": (224, float(\"inf\"))}\n",
    "routine_results_df = pyeem.preprocessing.perform_routine(\n",
    "    dataset,\n",
    "    routine_df,\n",
    "    crop_dims=crop_dimensions,\n",
    "    raman_source_type = \"metadata\",\n",
    "    fill=\"interp\",\n",
    "    progress_bar=True\n",
    ")\n",
    "routine_results_df"
   ]
  },
  {
   "cell_type": "markdown",
   "metadata": {
    "colab_type": "text",
    "id": "IC-Wu8PGS2UR"
   },
   "source": [
    "## Check to see if any of the steps failed to complete\n",
    "- If you are using a demo dataset, you should see an empty dataframe."
   ]
  },
  {
   "cell_type": "code",
   "execution_count": 10,
   "metadata": {
    "colab": {
     "base_uri": "https://localhost:8080/",
     "height": 76
    },
    "colab_type": "code",
    "id": "9xX0wSfwS2UR",
    "outputId": "07a6a289-ec77-432d-b12a-41cf65f8f4d1",
    "scrolled": false
   },
   "outputs": [
    {
     "data": {
      "text/html": [
       "<div>\n",
       "<style scoped>\n",
       "    .dataframe tbody tr th:only-of-type {\n",
       "        vertical-align: middle;\n",
       "    }\n",
       "\n",
       "    .dataframe tbody tr th {\n",
       "        vertical-align: top;\n",
       "    }\n",
       "\n",
       "    .dataframe thead th {\n",
       "        text-align: right;\n",
       "    }\n",
       "</style>\n",
       "<table border=\"1\" class=\"dataframe\">\n",
       "  <thead>\n",
       "    <tr style=\"text-align: right;\">\n",
       "      <th></th>\n",
       "      <th></th>\n",
       "      <th></th>\n",
       "      <th></th>\n",
       "      <th>step_completed</th>\n",
       "      <th>step_exception</th>\n",
       "      <th>hdf_path</th>\n",
       "      <th>units</th>\n",
       "    </tr>\n",
       "    <tr>\n",
       "      <th>sample_set</th>\n",
       "      <th>scan_type</th>\n",
       "      <th>name</th>\n",
       "      <th>step_name</th>\n",
       "      <th></th>\n",
       "      <th></th>\n",
       "      <th></th>\n",
       "      <th></th>\n",
       "    </tr>\n",
       "  </thead>\n",
       "  <tbody>\n",
       "  </tbody>\n",
       "</table>\n",
       "</div>"
      ],
      "text/plain": [
       "Empty DataFrame\n",
       "Columns: [step_completed, step_exception, hdf_path, units]\n",
       "Index: []"
      ]
     },
     "metadata": {},
     "output_type": "display_data"
    }
   ],
   "source": [
    "display(routine_results_df[routine_results_df[\"step_exception\"].notna()])"
   ]
  },
  {
   "cell_type": "markdown",
   "metadata": {
    "colab_type": "text",
    "id": "IUCS5hslS2UV"
   },
   "source": [
    "## Visualize the preprocessing steps"
   ]
  },
  {
   "cell_type": "code",
   "execution_count": 25,
   "metadata": {},
   "outputs": [],
   "source": [
    "import matplotlib.pyplot as plt\n",
    "import numpy as np\n",
    "import pandas as pd\n",
    "from celluloid import Camera\n",
    "from pyeem.plots import contour_plot\n",
    "\n",
    "from mpl_toolkits.axes_grid1 import make_axes_locatable\n",
    "\n",
    "def colorbar(mappable, units, cbar_kws={}):\n",
    "    last_axes = plt.gca()\n",
    "    ax = mappable.axes\n",
    "    fig = ax.figure\n",
    "    divider = make_axes_locatable(ax)\n",
    "    \n",
    "    cbar_ax_size = cbar_kws.get(\"cbar_ax_size\", \"8%\")\n",
    "    cbar_ax_pad = cbar_kws.get(\"cbar_ax_pad\", 0.05)\n",
    "    cax = divider.append_axes(\"right\", size=cbar_ax_size, pad=cbar_ax_pad)\n",
    "    cbar = fig.colorbar(mappable, cax=cax)\n",
    "    \n",
    "    cbar_tick_params_labelsize = cbar_kws.get(\"cbar_tick_params_labelsize\", 10)\n",
    "    cbar.ax.tick_params(labelsize=cbar_tick_params_labelsize)\n",
    "    cbar.formatter.set_powerlimits((-2, 3))\n",
    "    plt.sca(last_axes)\n",
    "    \n",
    "    cbar_label_size = cbar_kws.get(\"cbar_label_size\", 12)\n",
    "    cbar_labelpad = cbar_kws.get(\"cbar_labelpad\", 5)\n",
    "    cbar.set_label(units, size=cbar_label_size, labelpad=cbar_labelpad)\n",
    "    return cbar\n",
    "\n",
    "\n",
    "def _eem_contour(eem, ax, intensity_units, plot_kws={}, cbar_kws={}):\n",
    "    # Set the default plot kws\n",
    "    # contourf doesn't take aspect as a kwarg...\n",
    "    # so we have to remove it and pass it seperately \n",
    "    # via set_aspect(). Clunky but oh well.\n",
    "    default_aspect = \"equal\"\n",
    "    aspect = plot_kws.get(\"aspect\", default_aspect)\n",
    "    contour_kws = plot_kws.copy()\n",
    "    contour_kws.pop(\"aspect\", None)\n",
    "    default_contour_kws = dict()\n",
    "    contour_kws = dict(default_contour_kws, **contour_kws)\n",
    "\n",
    "    fl = eem.to_numpy()\n",
    "    excitation = eem.columns.to_numpy()\n",
    "    emission = eem.index.to_numpy()\n",
    "    hmap = ax.contourf(\n",
    "        excitation,\n",
    "        emission,\n",
    "        fl,\n",
    "        **contour_kws\n",
    "    )\n",
    "    ax.set_aspect(aspect)\n",
    "    cbar = colorbar(hmap, units=intensity_units, cbar_kws=cbar_kws)\n",
    "    return ax\n",
    "\n",
    "\n",
    "def _eem_imshow(eem, ax, intensity_units, plot_kws={}, cbar_kws={}):\n",
    "    # Set the default plot kws\n",
    "    excitation = eem.columns.to_numpy()\n",
    "    emission = eem.index.to_numpy()\n",
    "    default_plot_kws = dict(\n",
    "        origin = \"lower\",\n",
    "        extent = [excitation[0], excitation[-1], emission[0], emission[-1]],\n",
    "        aspect = \"equal\"\n",
    "    )\n",
    "    plot_kws = dict(default_plot_kws, **plot_kws)\n",
    "\n",
    "    hmap = ax.imshow(eem, **plot_kws)\n",
    "    cbar = colorbar(hmap, units=intensity_units, cbar_kws=cbar_kws)\n",
    "    return ax\n",
    "\n",
    "\n",
    "def _eem_surface_contour(eem, ax, plot_format=\"surface\", plot_kws={}, **kwargs):\n",
    "    print(kwargs)\n",
    "    X = eem.columns.to_numpy()\n",
    "    Y = eem.index.to_numpy()\n",
    "    Z = eem.to_numpy()\n",
    "    X, Y = np.meshgrid(X, Y)\n",
    "\n",
    "    surf = ax.plot_surface(\n",
    "        X, Y, Z, rstride=1, cstride=1, alpha=0.75, cmap=\"viridis\", shade=False\n",
    "    )\n",
    "    z_offset = Z.max()*-2\n",
    "    \n",
    "    if plot_format == \"both\":\n",
    "        ax.contourf(X, Y, Z, zdir=\"z\", offset=z_offset)\n",
    "        ax.set_zlim(Z.min() + z_offset, Z.max())\n",
    "    \n",
    "    ax.zaxis.set_ticks_position('none') \n",
    "    ax.set_zticks([])\n",
    "    \n",
    "    ax.view_init(elev=20, azim=135)\n",
    "    ax.xaxis.pane.set_edgecolor(\"grey\")\n",
    "    ax.yaxis.pane.set_edgecolor(\"grey\")\n",
    "    ax.zaxis.pane.set_edgecolor(\"grey\")\n",
    "    ax.xaxis.pane.fill = False\n",
    "    ax.yaxis.pane.fill = False\n",
    "    ax.zaxis.pane.fill = False\n",
    "\n",
    "    title = kwargs.get(\"title\", \"Excitation Emission Matrix\")\n",
    "    ax.set_title(title, wrap=True, fontsize=14, pad=10)\n",
    "\n",
    "    #\n",
    "    wavelength_units = \"nm\"\n",
    "    xlabel = kwargs.get(\"xlabel\", \"Excitation \" + r\"$\\lambda$, %s\" % str(wavelength_units))\n",
    "    ylabel = kwargs.get(\"ylabel\", \"Emission \" + r\"$\\lambda$, %s\" % str(wavelength_units))\n",
    "    axis_label_fontsize = kwargs.get(\"axis_label_fontsize\", 12)\n",
    "    axis_labelpad = kwargs.get(\"axis_labelpad\", 5)\n",
    "    ax.set_xlabel(xlabel, fontsize=axis_label_fontsize, labelpad=axis_labelpad)\n",
    "    ax.set_ylabel(ylabel, fontsize=axis_label_fontsize, labelpad=axis_labelpad)\n",
    "    \n",
    "    tick_params_labelsize = kwargs.get(\"tick_params_labelsize\", 10)\n",
    "    ax.tick_params(axis=\"both\", which=\"major\", pad=0, labelsize=tick_params_labelsize)\n",
    "    \n",
    "    cbar = plt.colorbar(surf, ax=ax, shrink=0.5)\n",
    "    cbar.set_label(\"cbar_label\", size=12)\n",
    "    cbar.ax.ticklabel_format(style=\"scientific\", scilimits=(-2,3), useMathText=True)\n",
    "    cbar.ax.tick_params(labelsize=14)\n",
    "    \n",
    "    return ax\n",
    "\n",
    "\n",
    "def eem_plot(eem_df, ax=None, plot_type=\"imshow\", intensity_units=\"unspecified\", wavelength_units=\"nm\",\n",
    "              aspect=\"equal\", fig_kws={}, plot_kws={}, cbar_kws={}, **kwargs):\n",
    "    \n",
    "    # Set the default figure kws\n",
    "    default_fig_kws = dict()\n",
    "    fig_kws = dict(default_fig_kws, **fig_kws)\n",
    "    \n",
    "    if ax is None:\n",
    "        fig = plt.figure(**fig_kws)\n",
    "        ax = plt.gca()\n",
    "    \n",
    "    if plot_type == \"contour\":\n",
    "        ax = _eem_contour(eem_df, ax=ax, intensity_units=intensity_units, plot_kws=plot_kws, cbar_kws=cbar_kws)\n",
    "        \n",
    "    elif plot_type == \"imshow\":\n",
    "        ax = _eem_imshow(eem_df, ax=ax, intensity_units=intensity_units, plot_kws=plot_kws, cbar_kws=cbar_kws)\n",
    "    \n",
    "    elif plot_type == \"surface_contour\":\n",
    "        hmap = _eem_surface_contour(eem_df, ax, **kwargs)\n",
    "        return ax\n",
    "    \n",
    "    else:\n",
    "        raise ValueError(\"plot_type must be imshow, contour, or surface_contour\")\n",
    "    \n",
    "\n",
    "    tick_params_labelsize = kwargs.get(\"tick_params_labelsize\", 10)\n",
    "    ax.tick_params(axis=\"both\", which=\"major\", labelsize=tick_params_labelsize)\n",
    "    \n",
    "    title = kwargs.get(\"title\", \"Excitation Emission Matrix\")\n",
    "    #kwargs.get pad and fontsize\n",
    "    ax.set_title(title, wrap=True, fontsize=14, pad=20)\n",
    "\n",
    "    xlabel = kwargs.get(\"xlabel\", \"Excitation \" + r\"$\\lambda$, %s\" % str(wavelength_units))\n",
    "    ylabel = kwargs.get(\"ylabel\", \"Emission \" + r\"$\\lambda$, %s\" % str(wavelength_units))\n",
    "    axis_label_fontsize = kwargs.get(\"axis_label_fontsize\", 12)\n",
    "    axis_labelpad = kwargs.get(\"axis_labelpad\", 5)\n",
    "    ax.set_xlabel(xlabel, fontsize=axis_label_fontsize, labelpad=axis_labelpad)\n",
    "    ax.set_ylabel(ylabel, fontsize=axis_label_fontsize, labelpad=axis_labelpad)\n",
    "\n",
    "    return ax\n",
    "\n",
    "\n",
    "def _get_subplot_dims(n):\n",
    "    ncols = 4\n",
    "    if n % ncols:\n",
    "        nplots = n + (ncols - n % ncols)\n",
    "    else:\n",
    "        nplots = n\n",
    "\n",
    "    nrows = int(nplots / ncols)\n",
    "    return nrows, ncols\n",
    "\n",
    "\n",
    "def plot_preprocessing(\n",
    "    dataset, routine_results_df, sample_set, sample_name=None, include_complete=False, plot_type=\"imshow\",\n",
    "    fig=None, fig_kws={}, plot_kws={}, cbar_kws={}, **kwargs\n",
    "):\n",
    "    rr_df = routine_results_df.copy()\n",
    "    if not include_complete:\n",
    "        if \"complete\" in rr_df.index.get_level_values(\"step_name\"):\n",
    "            rr_df.drop(\"complete\", level=\"step_name\", inplace=True)\n",
    "    \n",
    "    rr_df = rr_df[rr_df[\"step_completed\"].fillna(False)]\n",
    "    blank_steps_dict = {}\n",
    "    scan_set = rr_df.xs(sample_set, level=\"sample_set\", drop_level=False)    \n",
    "    \n",
    "    if \"blank_eem\" in scan_set.index.get_level_values(\"scan_type\"):\n",
    "        blank = scan_set.xs(\"blank_eem\", level=\"scan_type\")\n",
    "        for step_name in blank.index.get_level_values(\"step_name\"):\n",
    "            units = blank.xs(step_name, level=\"step_name\")[\"units\"].unique().item()\n",
    "            hdf_path = blank.xs(step_name, level=\"step_name\")[\"hdf_path\"].unique().item()\n",
    "            title = \"Blank: {0}\".format(step_name.replace(\"_\", \" \").title())\n",
    "            blank_steps_dict[title] = {\n",
    "                \"units\": units,\n",
    "                \"eem_df\": pd.read_hdf(dataset.hdf, key=hdf_path)\n",
    "            }\n",
    "    \n",
    "    sample_steps_dict = {}\n",
    "    if \"sample_eem\" in scan_set.index.get_level_values(\"scan_type\") and sample_name in scan_set.index.get_level_values(\"name\"):\n",
    "        sample = scan_set.xs((\"sample_eem\", sample_name), level=[\"scan_type\", \"name\"])\n",
    "        for step_name in sample.index.get_level_values(\"step_name\"):\n",
    "            units = sample.xs(step_name, level=\"step_name\")[\"units\"].unique().item()\n",
    "            hdf_path = (\n",
    "                sample.xs(step_name, level=\"step_name\")[\"hdf_path\"].unique().item()\n",
    "            )\n",
    "            title = \"Sample: {0}\".format(step_name.replace(\"_\", \" \").title())\n",
    "            sample_steps_dict[title] = {\n",
    "                \"units\": units,\n",
    "                \"eem_df\": pd.read_hdf(dataset.hdf, key=hdf_path)                \n",
    "            }\n",
    "\n",
    "    steps_spectra_dict = {**blank_steps_dict, **sample_steps_dict}\n",
    "    \n",
    "    nsteps = len(steps_spectra_dict.keys())\n",
    "    nrows, ncols = _get_subplot_dims(nsteps)\n",
    "    nplots = nrows * ncols\n",
    "            \n",
    "    # Set the fig_kws as a mapping of default and kwargs\n",
    "    default_fig_kws = dict(\n",
    "        tight_layout={\"h_pad\":2.5, \"w_pad\":0.25},\n",
    "        figsize=(ncols ** 2, nrows * ncols)\n",
    "    )\n",
    "    # Set the fig_kws\n",
    "    fig_kws = dict(default_fig_kws, **fig_kws)\n",
    "    fig = plt.figure(**fig_kws)    \n",
    "\n",
    "    projection = None\n",
    "    if plot_type == \"surface_contour\":\n",
    "        projection=\"3d\"\n",
    "        \n",
    "    axes = []\n",
    "    for i in range(1, ncols*nrows+1):\n",
    "        ax = fig.add_subplot(nrows, ncols, i, projection=projection)\n",
    "        axes.append(ax)\n",
    "    plt.subplots_adjust(wspace=0.5, hspace=0.01)\n",
    "    \n",
    "    suptitle = \"Results of Preprocessing Routine - Sample Set #{0}\\nSample name: {1}\".format(\n",
    "        sample_set, sample_name\n",
    "    )\n",
    "    # If sup kwarg is present, use -> otherwise use default\n",
    "    suptitle = kwargs.get('suptitle', suptitle)\n",
    "    suptitle_fontsize = kwargs.get('suptitle_fontsize', 20)\n",
    "    fig.suptitle(suptitle, fontsize=suptitle_fontsize)\n",
    "    \n",
    "    ax_idx = 0\n",
    "    for i in range(nsteps, nplots):\n",
    "        axes[i].axis(\"off\")\n",
    "        axes[i].set_visible(False)\n",
    "\n",
    "    for title, step_dict in steps_spectra_dict.items():\n",
    "        units = step_dict[\"units\"]\n",
    "        eem_df = step_dict[\"eem_df\"]\n",
    "        eem_plot(eem_df, intensity_units=units, ax=axes[ax_idx],\n",
    "                 plot_type=plot_type, plot_kws=plot_kws, cbar_kws=cbar_kws, title=title, **kwargs)\n",
    "        ax_idx += 1\n",
    "    \n",
    "    return axes"
   ]
  },
  {
   "cell_type": "code",
   "execution_count": 26,
   "metadata": {
    "colab": {
     "base_uri": "https://localhost:8080/",
     "height": 1000
    },
    "colab_type": "code",
    "id": "N1wkgeXhS2UW",
    "outputId": "eddfa1b1-6878-4c7a-f65e-c1b4ce54c63a",
    "scrolled": false
   },
   "outputs": [
    {
     "name": "stdout",
     "output_type": "stream",
     "text": [
      "{'title': 'Blank: Raw'}\n",
      "{'title': 'Blank: Crop'}\n"
     ]
    },
    {
     "data": {
      "image/png": "[encoded data removed]",
      "text/plain": [
       "<Figure size 1152x288 with 6 Axes>"
      ]
     },
     "metadata": {
      "needs_background": "light"
     },
     "output_type": "display_data"
    }
   ],
   "source": [
    "kwargs = {\"plot_format\": \"both\"}\n",
    "for name, group in routine_results_df.groupby(\n",
    "    level=[\"sample_set\", \"name\"]\n",
    "):\n",
    "    sample_set = name[0]\n",
    "    sample_name = name[1]\n",
    "    kwargs = {}\n",
    "    axes = plot_preprocessing(\n",
    "        dataset, routine_results_df, sample_set=sample_set, \n",
    "        sample_name=sample_name, plot_type=\"surface_contour\",\n",
    "        fig_kws = dict(\n",
    "            tight_layout={\"h_pad\":2.5, \"w_pad\":0.05},\n",
    "        ),\n",
    "        plot_kws={\n",
    "            \"aspect\":\"equal\",\n",
    "        },\n",
    "        cbar_kws={\n",
    "            \"cbar_ax_size\": \"8%\",\n",
    "            \"cbar_ax_pad\": 0.05\n",
    "        },\n",
    "        **kwargs\n",
    "    )\n",
    "    plt.show()\n",
    "    break"
   ]
  },
  {
   "cell_type": "markdown",
   "metadata": {
    "colab_type": "text",
    "id": "WqI2gXfIS2UZ"
   },
   "source": [
    "## Load the calibration information"
   ]
  },
  {
   "cell_type": "code",
   "execution_count": null,
   "metadata": {
    "colab": {
     "base_uri": "https://localhost:8080/",
     "height": 448
    },
    "colab_type": "code",
    "id": "3uISxR4tS2UZ",
    "outputId": "c4401158-8d85-410f-f682-0b9d2dda9ac4",
    "scrolled": false
   },
   "outputs": [],
   "source": [
    "cal_df = pyeem.preprocessing.calibration(dataset, routine_results_df)\n",
    "display(cal_df)"
   ]
  },
  {
   "cell_type": "markdown",
   "metadata": {
    "colab_type": "text",
    "id": "ufI7Y2ypS2Uc"
   },
   "source": [
    "## Checkout the calibration summary information"
   ]
  },
  {
   "cell_type": "code",
   "execution_count": null,
   "metadata": {
    "colab": {
     "base_uri": "https://localhost:8080/",
     "height": 135
    },
    "colab_type": "code",
    "id": "GAvMgnq8S2Ud",
    "outputId": "a4c65339-6371-4c45-f50f-f99dbfcbf340"
   },
   "outputs": [],
   "source": [
    "cal_summary_df = pyeem.preprocessing.calibration_summary_info(cal_df)\n",
    "display(cal_summary_df)"
   ]
  },
  {
   "cell_type": "markdown",
   "metadata": {
    "colab_type": "text",
    "id": "B5gDrCAgS2Ug"
   },
   "source": [
    "## Plot the calibration curves"
   ]
  },
  {
   "cell_type": "code",
   "execution_count": null,
   "metadata": {
    "colab": {
     "base_uri": "https://localhost:8080/",
     "height": 1000
    },
    "colab_type": "code",
    "id": "jd3F7jBAS2Uh",
    "outputId": "0bb71ee3-e7c9-4fbe-e014-67500d2fb7c0",
    "scrolled": false
   },
   "outputs": [],
   "source": [
    "def plot_calibration_curves(dataset, cal_df, subplots=False):\n",
    "    colors = plt.rcParams[\"axes.prop_cycle\"]()\n",
    "    sources = cal_df.index.get_level_values(level=\"source\").unique()\n",
    "\n",
    "    # TODO - Just put all subplots on one row\n",
    "    nsources = sources.nunique()\n",
    "    nrows, ncols = _get_subplot_dims(nsources)\n",
    "    nplots = nrows * ncols\n",
    "    fig, axes = plt.subplots(1, nsources, figsize=(ncols ** 2, nrows * ncols))\n",
    "    \n",
    "    def _get_regression_metric(source_df, metric):\n",
    "        return source_df.index.get_level_values(level=metric).unique().item()\n",
    "\n",
    "    ax_idx = 0\n",
    "    lines = []\n",
    "    labels = []\n",
    "    for source in sources:\n",
    "        c = next(colors)[\"color\"]\n",
    "        source_df = cal_df.xs(source, level=\"source\")\n",
    "        source_units = _get_regression_metric(source_df, \"source_units\")\n",
    "        measurement_units = _get_regression_metric(source_df, \"measurement_units\")\n",
    "        slope = _get_regression_metric(source_df, \"slope\")\n",
    "        y_intercept = _get_regression_metric(source_df, \"intercept\")\n",
    "        r_squared = _get_regression_metric(source_df, \"r_squared\")\n",
    "\n",
    "        cal_poly = np.poly1d([slope, y_intercept])\n",
    "\n",
    "        proto_spectra_df = source_df[source_df[\"prototypical_sample\"]]\n",
    "        non_proto_spectra_df = source_df[~source_df[\"prototypical_sample\"]]\n",
    "\n",
    "\n",
    "        p_x = proto_spectra_df[\"concentration\"].values\n",
    "        p_y = proto_spectra_df[\"integrated_intensity\"].values\n",
    "        np_x = non_proto_spectra_df[\"concentration\"].values\n",
    "        np_y = non_proto_spectra_df[\"integrated_intensity\"].values\n",
    "        axes.flat[ax_idx].scatter(np_x, np_y, label=\"non-proto. sample\", color=c)\n",
    "        axes.flat[ax_idx].scatter(\n",
    "            p_x, p_y, label=\"proto. sample\", marker=\"*\", color=\"black\"\n",
    "        )\n",
    "        \n",
    "        x = np.linspace(source_df[\"concentration\"].min(),\n",
    "                        source_df[\"concentration\"].max())\n",
    "        axes.flat[ax_idx].plot(\n",
    "            x,\n",
    "            cal_poly(x),\n",
    "            label=\"y = %s\\n$R^2=%.2f$\" % (str(cal_poly).replace(\"\\n\", \"\"), r_squared),\n",
    "            color=\"black\",\n",
    "            linestyle=\"--\"\n",
    "        )\n",
    "\n",
    "        formatted_source_str = source.replace(\"_\", \" \").title()\n",
    "        xlabel_str = \"%s Concentration, %s\" % (formatted_source_str, source_units)\n",
    "        axes.flat[ax_idx].set_xlabel(xlabel_str, fontsize=12)\n",
    "        axes.flat[ax_idx].set_ylabel(measurement_units, fontsize=12)\n",
    "        axes.flat[ax_idx].tick_params(axis=\"both\", which=\"major\", labelsize=12)\n",
    "        axes.flat[ax_idx].set_title(\n",
    "            \"%s Fluorescence Calibration Curve\\nfor the %s %s\"\n",
    "            % (\n",
    "                formatted_source_str,\n",
    "                dataset.instruments_df.eem.item().manufacturer,\n",
    "                dataset.instruments_df.eem.item().name.title(),\n",
    "            ),\n",
    "            pad=30,\n",
    "            fontsize=14,\n",
    "        )\n",
    "        ax_line, ax_label = axes.flat[ax_idx].get_legend_handles_labels()\n",
    "        lines.extend(ax_line)\n",
    "        labels.extend(ax_label)\n",
    "        axes.flat[ax_idx].legend(loc=\"upper left\")\n",
    "        ax_idx += 1\n",
    "    \n",
    "    plt.subplots_adjust(wspace=0.3)\n",
    "    return axes\n",
    "\n",
    "axes = plot_calibration_curves(dataset, cal_df)\n",
    "plt.show()"
   ]
  },
  {
   "cell_type": "code",
   "execution_count": null,
   "metadata": {
    "scrolled": true
   },
   "outputs": [],
   "source": [
    "plt.rcParams['figure.dpi'] = 100\n",
    "\n",
    "colors = plt.rcParams[\"axes.prop_cycle\"]()\n",
    "sources = cal_df.index.get_level_values(level=\"source\").unique()\n",
    "\n",
    "for source in sources:\n",
    "    if source != \"diesel\":\n",
    "        continue\n",
    "    \n",
    "    fig, axes = plt.subplots(2)\n",
    "    camera = Camera(fig)\n",
    "    \n",
    "    def _get_regression_metric(source_df, metric):\n",
    "        return source_df.index.get_level_values(level=metric).unique().item()\n",
    "    \n",
    "    c = next(colors)[\"color\"]\n",
    "    source_df = cal_df.xs(source, level=\"source\")\n",
    "    source_units = _get_regression_metric(source_df, \"source_units\")\n",
    "    measurement_units = _get_regression_metric(source_df, \"measurement_units\")\n",
    "    slope = _get_regression_metric(source_df, \"slope\")\n",
    "    y_intercept = _get_regression_metric(source_df, \"intercept\")\n",
    "    r_squared = _get_regression_metric(source_df, \"r_squared\")\n",
    "\n",
    "    cal_poly = np.poly1d([slope, y_intercept])\n",
    "\n",
    "    proto_spectra_df = source_df[source_df[\"prototypical_sample\"]]\n",
    "    non_proto_spectra_df = source_df[~source_df[\"prototypical_sample\"]]\n",
    "\n",
    "    x = source_df[\"concentration\"].values\n",
    "    p_x = proto_spectra_df[\"concentration\"].values\n",
    "    p_y = proto_spectra_df[\"integrated_intensity\"].values\n",
    "    np_x = non_proto_spectra_df[\"concentration\"].values\n",
    "    np_y = non_proto_spectra_df[\"integrated_intensity\"].values\n",
    "\n",
    "    for index, row in source_df.sort_values(by=[\"concentration\", \"integrated_intensity\"]).iterrows():\n",
    "        hdf_path = row[\"hdf_path\"]\n",
    "        \n",
    "        eem_df = pd.read_hdf(dataset.hdf, key=hdf_path)\n",
    "\n",
    "        axes[0].scatter(np_x, np_y, label=\"non-proto. sample\", color=c)\n",
    "        axes[0].scatter(\n",
    "            p_x, p_y, label=\"proto. sample\", marker=\"*\", color=\"black\"\n",
    "        )\n",
    "        axes[0].scatter(\n",
    "            row[\"concentration\"], row[\"integrated_intensity\"], label=\"current spectrum\", marker=\"o\", color=\"red\"\n",
    "        )\n",
    "        axes[0].plot(\n",
    "            x,\n",
    "            cal_poly(x),\n",
    "            label=\"y = %s\\n$R^2=%.2f$\" % (str(cal_poly).replace(\"\\n\", \"\"), r_squared),\n",
    "            color=c,\n",
    "        )\n",
    "        \n",
    "        axes[1].imshow(eem_df)\n",
    "        camera.snap()\n",
    "    \n",
    "animation = camera.animate()\n",
    "HTML(animation.to_html5_video())"
   ]
  },
  {
   "cell_type": "markdown",
   "metadata": {
    "colab_type": "text",
    "id": "DmbnqwEZS2Uk"
   },
   "source": [
    "## Create prototypical spectra and then plot them"
   ]
  },
  {
   "cell_type": "code",
   "execution_count": null,
   "metadata": {
    "colab": {
     "base_uri": "https://localhost:8080/",
     "height": 1000
    },
    "colab_type": "code",
    "id": "s1pE70aDS2Ul",
    "outputId": "54824505-f578-4ac0-f1fb-b14ba95e94da",
    "scrolled": false
   },
   "outputs": [],
   "source": [
    "results_df = pyeem.augmentation.create_prototypical_spectra(dataset, cal_df)\n",
    "pyeem.plots.augmentations.plot_prototypical_spectra(\n",
    "    dataset, results_df, plot_type=\"surface\"\n",
    ")"
   ]
  },
  {
   "cell_type": "markdown",
   "metadata": {
    "colab_type": "text",
    "id": "CiFDdFlLS2Uo"
   },
   "source": [
    "## Augmented Spectra - Single Sources\n",
    "### Create augmented single source spectra by scaling each prototypical spectrum across a range of concentrations"
   ]
  },
  {
   "cell_type": "code",
   "execution_count": null,
   "metadata": {
    "colab": {},
    "colab_type": "code",
    "id": "lpQV5l25QDgE"
   },
   "outputs": [],
   "source": [
    "results_df = pyeem.augmentation.create_single_source_spectra(\n",
    "    dataset, cal_df, conc_range=(0, 5), num_spectra=100\n",
    ")"
   ]
  },
  {
   "cell_type": "markdown",
   "metadata": {
    "colab_type": "text",
    "id": "DaAgMWiGS2Uq"
   },
   "source": [
    "## Plot the augmented single source spectra"
   ]
  },
  {
   "cell_type": "code",
   "execution_count": null,
   "metadata": {
    "colab": {},
    "colab_type": "code",
    "id": "8LpVQzPUS2Uo"
   },
   "outputs": [],
   "source": [
    "from IPython.display import HTML\n",
    "import matplotlib.pyplot as plt\n",
    "plt.rcParams['figure.dpi'] = 100\n",
    "%matplotlib inline\n",
    "anim = pyeem.plots.single_source_animation(dataset, results_df, source=\"cigarette\")\n",
    "HTML(anim.to_html5_video())"
   ]
  },
  {
   "cell_type": "code",
   "execution_count": null,
   "metadata": {
    "colab": {},
    "colab_type": "code",
    "id": "GgNUy-dZAqXZ"
   },
   "outputs": [],
   "source": [
    "anim = pyeem.plots.single_source_animation(dataset, results_df, source=\"diesel\")\n",
    "HTML(anim.to_html5_video())"
   ]
  },
  {
   "cell_type": "code",
   "execution_count": null,
   "metadata": {
    "colab": {},
    "colab_type": "code",
    "id": "MOMizPF3AsIC"
   },
   "outputs": [],
   "source": [
    "anim = pyeem.plots.single_source_animation(dataset, results_df, source=\"wood_smoke\")\n",
    "HTML(anim.to_html5_video())"
   ]
  },
  {
   "cell_type": "code",
   "execution_count": null,
   "metadata": {
    "colab": {},
    "colab_type": "code",
    "id": "w4ZTWqa9S2Ur"
   },
   "outputs": [],
   "source": [
    "pyeem.plots.augmentations.plot_single_source_spectra(dataset, results_df)"
   ]
  },
  {
   "cell_type": "markdown",
   "metadata": {
    "colab_type": "text",
    "id": "A_T_gozzS2Ut"
   },
   "source": [
    "## Augmented Spectra - Mixtures\n",
    "### Create augmented mixture spectra by scaling and combining the prototypical spectra across a range of concentrations"
   ]
  },
  {
   "cell_type": "code",
   "execution_count": null,
   "metadata": {
    "colab": {},
    "colab_type": "code",
    "id": "rcDYWe9QS2Uu"
   },
   "outputs": [],
   "source": [
    "results_df = pyeem.augmentation.create_mixtures(dataset, cal_df, conc_range=(0.01, 6.3), num_steps=5)"
   ]
  },
  {
   "cell_type": "markdown",
   "metadata": {
    "colab_type": "text",
    "id": "JCrMNmGVS2Uw"
   },
   "source": [
    "## Plot the augmented mixture spectra"
   ]
  },
  {
   "cell_type": "code",
   "execution_count": null,
   "metadata": {
    "colab": {},
    "colab_type": "code",
    "id": "Rk15ydy7S2Uw"
   },
   "outputs": [],
   "source": [
    "anim = pyeem.plots.mix_animation(dataset, results_df)\n",
    "HTML(anim.to_html5_video())"
   ]
  },
  {
   "cell_type": "markdown",
   "metadata": {
    "colab_type": "text",
    "id": "477vt655S2Uz"
   },
   "source": [
    "## Create metadata template for future algal pigment measurements"
   ]
  },
  {
   "cell_type": "code",
   "execution_count": null,
   "metadata": {
    "colab": {},
    "colab_type": "code",
    "id": "7imHVVoPS2U0"
   },
   "outputs": [],
   "source": [
    "calibration_sources = [\"chloropyhll\", \"phycocyanin\", \"fucoxanthin\"]\n",
    "\n",
    "pyeem.datasets.create_metadata_template(\"metadata_template.csv\",\n",
    "                                        calibration_sources=calibration_sources)"
   ]
  },
  {
   "cell_type": "code",
   "execution_count": null,
   "metadata": {
    "colab": {},
    "colab_type": "code",
    "id": "4o0VFB3LS2U2"
   },
   "outputs": [],
   "source": [
    "import pandas as pd\n",
    "pd.read_csv(\"metadata_template.csv\")"
   ]
  },
  {
   "cell_type": "markdown",
   "metadata": {
    "colab_type": "text",
    "id": "vEgNhQVx5nkc"
   },
   "source": []
  }
 ],
 "metadata": {
  "colab": {
   "collapsed_sections": [],
   "name": "pyeem_tutorial.ipynb",
   "provenance": []
  },
  "kernelspec": {
   "display_name": "Python 3.6.11 64-bit ('venv': virtualenv)",
   "language": "python",
   "name": "python361164bitvenvvirtualenvc7abc169b88646a3862ff08fd71527e5"
  },
  "language_info": {
   "codemirror_mode": {
    "name": "ipython",
    "version": 3
   },
   "file_extension": ".py",
   "mimetype": "text/x-python",
   "name": "python",
   "nbconvert_exporter": "python",
   "pygments_lexer": "ipython3",
   "version": "3.6.11"
  }
 },
 "nbformat": 4,
 "nbformat_minor": 1
}
